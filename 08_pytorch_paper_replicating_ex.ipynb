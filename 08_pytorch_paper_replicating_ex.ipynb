{
  "nbformat": 4,
  "nbformat_minor": 0,
  "metadata": {
    "colab": {
      "provenance": [],
      "include_colab_link": true
    },
    "kernelspec": {
      "name": "python3",
      "display_name": "Python 3"
    },
    "language_info": {
      "name": "python"
    },
    "accelerator": "GPU",
    "gpuClass": "standard",
    "widgets": {
      "application/vnd.jupyter.widget-state+json": {
        "de8c08290321478ea6308964e21feb14": {
          "model_module": "@jupyter-widgets/controls",
          "model_name": "HBoxModel",
          "model_module_version": "1.5.0",
          "state": {
            "_dom_classes": [],
            "_model_module": "@jupyter-widgets/controls",
            "_model_module_version": "1.5.0",
            "_model_name": "HBoxModel",
            "_view_count": null,
            "_view_module": "@jupyter-widgets/controls",
            "_view_module_version": "1.5.0",
            "_view_name": "HBoxView",
            "box_style": "",
            "children": [
              "IPY_MODEL_628d19e8ad36423a9f7261bbed24edb1",
              "IPY_MODEL_53a81911b5614f8eb00f9d6796329b6b",
              "IPY_MODEL_a08f2efd59b440a7acc96b76c037eaf2"
            ],
            "layout": "IPY_MODEL_f5968bac5b8c416e8a8148d026f11c56"
          }
        },
        "628d19e8ad36423a9f7261bbed24edb1": {
          "model_module": "@jupyter-widgets/controls",
          "model_name": "HTMLModel",
          "model_module_version": "1.5.0",
          "state": {
            "_dom_classes": [],
            "_model_module": "@jupyter-widgets/controls",
            "_model_module_version": "1.5.0",
            "_model_name": "HTMLModel",
            "_view_count": null,
            "_view_module": "@jupyter-widgets/controls",
            "_view_module_version": "1.5.0",
            "_view_name": "HTMLView",
            "description": "",
            "description_tooltip": null,
            "layout": "IPY_MODEL_7ad9bdf8735445a99d6ae27509b831df",
            "placeholder": "​",
            "style": "IPY_MODEL_f3ea6393a0d345f2b203233adb512a07",
            "value": "100%"
          }
        },
        "53a81911b5614f8eb00f9d6796329b6b": {
          "model_module": "@jupyter-widgets/controls",
          "model_name": "FloatProgressModel",
          "model_module_version": "1.5.0",
          "state": {
            "_dom_classes": [],
            "_model_module": "@jupyter-widgets/controls",
            "_model_module_version": "1.5.0",
            "_model_name": "FloatProgressModel",
            "_view_count": null,
            "_view_module": "@jupyter-widgets/controls",
            "_view_module_version": "1.5.0",
            "_view_name": "ProgressView",
            "bar_style": "success",
            "description": "",
            "description_tooltip": null,
            "layout": "IPY_MODEL_9487307bdc24439c9052f4106c09a22a",
            "max": 10,
            "min": 0,
            "orientation": "horizontal",
            "style": "IPY_MODEL_48400e4a891b454b9b6aace5ab5a0b03",
            "value": 10
          }
        },
        "a08f2efd59b440a7acc96b76c037eaf2": {
          "model_module": "@jupyter-widgets/controls",
          "model_name": "HTMLModel",
          "model_module_version": "1.5.0",
          "state": {
            "_dom_classes": [],
            "_model_module": "@jupyter-widgets/controls",
            "_model_module_version": "1.5.0",
            "_model_name": "HTMLModel",
            "_view_count": null,
            "_view_module": "@jupyter-widgets/controls",
            "_view_module_version": "1.5.0",
            "_view_name": "HTMLView",
            "description": "",
            "description_tooltip": null,
            "layout": "IPY_MODEL_e5f3d648b0194b9388450e82eab9b80f",
            "placeholder": "​",
            "style": "IPY_MODEL_e20c5aec3bfa41cd998602caf0cdf290",
            "value": " 10/10 [01:22&lt;00:00,  8.07s/it]"
          }
        },
        "f5968bac5b8c416e8a8148d026f11c56": {
          "model_module": "@jupyter-widgets/base",
          "model_name": "LayoutModel",
          "model_module_version": "1.2.0",
          "state": {
            "_model_module": "@jupyter-widgets/base",
            "_model_module_version": "1.2.0",
            "_model_name": "LayoutModel",
            "_view_count": null,
            "_view_module": "@jupyter-widgets/base",
            "_view_module_version": "1.2.0",
            "_view_name": "LayoutView",
            "align_content": null,
            "align_items": null,
            "align_self": null,
            "border": null,
            "bottom": null,
            "display": null,
            "flex": null,
            "flex_flow": null,
            "grid_area": null,
            "grid_auto_columns": null,
            "grid_auto_flow": null,
            "grid_auto_rows": null,
            "grid_column": null,
            "grid_gap": null,
            "grid_row": null,
            "grid_template_areas": null,
            "grid_template_columns": null,
            "grid_template_rows": null,
            "height": null,
            "justify_content": null,
            "justify_items": null,
            "left": null,
            "margin": null,
            "max_height": null,
            "max_width": null,
            "min_height": null,
            "min_width": null,
            "object_fit": null,
            "object_position": null,
            "order": null,
            "overflow": null,
            "overflow_x": null,
            "overflow_y": null,
            "padding": null,
            "right": null,
            "top": null,
            "visibility": null,
            "width": null
          }
        },
        "7ad9bdf8735445a99d6ae27509b831df": {
          "model_module": "@jupyter-widgets/base",
          "model_name": "LayoutModel",
          "model_module_version": "1.2.0",
          "state": {
            "_model_module": "@jupyter-widgets/base",
            "_model_module_version": "1.2.0",
            "_model_name": "LayoutModel",
            "_view_count": null,
            "_view_module": "@jupyter-widgets/base",
            "_view_module_version": "1.2.0",
            "_view_name": "LayoutView",
            "align_content": null,
            "align_items": null,
            "align_self": null,
            "border": null,
            "bottom": null,
            "display": null,
            "flex": null,
            "flex_flow": null,
            "grid_area": null,
            "grid_auto_columns": null,
            "grid_auto_flow": null,
            "grid_auto_rows": null,
            "grid_column": null,
            "grid_gap": null,
            "grid_row": null,
            "grid_template_areas": null,
            "grid_template_columns": null,
            "grid_template_rows": null,
            "height": null,
            "justify_content": null,
            "justify_items": null,
            "left": null,
            "margin": null,
            "max_height": null,
            "max_width": null,
            "min_height": null,
            "min_width": null,
            "object_fit": null,
            "object_position": null,
            "order": null,
            "overflow": null,
            "overflow_x": null,
            "overflow_y": null,
            "padding": null,
            "right": null,
            "top": null,
            "visibility": null,
            "width": null
          }
        },
        "f3ea6393a0d345f2b203233adb512a07": {
          "model_module": "@jupyter-widgets/controls",
          "model_name": "DescriptionStyleModel",
          "model_module_version": "1.5.0",
          "state": {
            "_model_module": "@jupyter-widgets/controls",
            "_model_module_version": "1.5.0",
            "_model_name": "DescriptionStyleModel",
            "_view_count": null,
            "_view_module": "@jupyter-widgets/base",
            "_view_module_version": "1.2.0",
            "_view_name": "StyleView",
            "description_width": ""
          }
        },
        "9487307bdc24439c9052f4106c09a22a": {
          "model_module": "@jupyter-widgets/base",
          "model_name": "LayoutModel",
          "model_module_version": "1.2.0",
          "state": {
            "_model_module": "@jupyter-widgets/base",
            "_model_module_version": "1.2.0",
            "_model_name": "LayoutModel",
            "_view_count": null,
            "_view_module": "@jupyter-widgets/base",
            "_view_module_version": "1.2.0",
            "_view_name": "LayoutView",
            "align_content": null,
            "align_items": null,
            "align_self": null,
            "border": null,
            "bottom": null,
            "display": null,
            "flex": null,
            "flex_flow": null,
            "grid_area": null,
            "grid_auto_columns": null,
            "grid_auto_flow": null,
            "grid_auto_rows": null,
            "grid_column": null,
            "grid_gap": null,
            "grid_row": null,
            "grid_template_areas": null,
            "grid_template_columns": null,
            "grid_template_rows": null,
            "height": null,
            "justify_content": null,
            "justify_items": null,
            "left": null,
            "margin": null,
            "max_height": null,
            "max_width": null,
            "min_height": null,
            "min_width": null,
            "object_fit": null,
            "object_position": null,
            "order": null,
            "overflow": null,
            "overflow_x": null,
            "overflow_y": null,
            "padding": null,
            "right": null,
            "top": null,
            "visibility": null,
            "width": null
          }
        },
        "48400e4a891b454b9b6aace5ab5a0b03": {
          "model_module": "@jupyter-widgets/controls",
          "model_name": "ProgressStyleModel",
          "model_module_version": "1.5.0",
          "state": {
            "_model_module": "@jupyter-widgets/controls",
            "_model_module_version": "1.5.0",
            "_model_name": "ProgressStyleModel",
            "_view_count": null,
            "_view_module": "@jupyter-widgets/base",
            "_view_module_version": "1.2.0",
            "_view_name": "StyleView",
            "bar_color": null,
            "description_width": ""
          }
        },
        "e5f3d648b0194b9388450e82eab9b80f": {
          "model_module": "@jupyter-widgets/base",
          "model_name": "LayoutModel",
          "model_module_version": "1.2.0",
          "state": {
            "_model_module": "@jupyter-widgets/base",
            "_model_module_version": "1.2.0",
            "_model_name": "LayoutModel",
            "_view_count": null,
            "_view_module": "@jupyter-widgets/base",
            "_view_module_version": "1.2.0",
            "_view_name": "LayoutView",
            "align_content": null,
            "align_items": null,
            "align_self": null,
            "border": null,
            "bottom": null,
            "display": null,
            "flex": null,
            "flex_flow": null,
            "grid_area": null,
            "grid_auto_columns": null,
            "grid_auto_flow": null,
            "grid_auto_rows": null,
            "grid_column": null,
            "grid_gap": null,
            "grid_row": null,
            "grid_template_areas": null,
            "grid_template_columns": null,
            "grid_template_rows": null,
            "height": null,
            "justify_content": null,
            "justify_items": null,
            "left": null,
            "margin": null,
            "max_height": null,
            "max_width": null,
            "min_height": null,
            "min_width": null,
            "object_fit": null,
            "object_position": null,
            "order": null,
            "overflow": null,
            "overflow_x": null,
            "overflow_y": null,
            "padding": null,
            "right": null,
            "top": null,
            "visibility": null,
            "width": null
          }
        },
        "e20c5aec3bfa41cd998602caf0cdf290": {
          "model_module": "@jupyter-widgets/controls",
          "model_name": "DescriptionStyleModel",
          "model_module_version": "1.5.0",
          "state": {
            "_model_module": "@jupyter-widgets/controls",
            "_model_module_version": "1.5.0",
            "_model_name": "DescriptionStyleModel",
            "_view_count": null,
            "_view_module": "@jupyter-widgets/base",
            "_view_module_version": "1.2.0",
            "_view_name": "StyleView",
            "description_width": ""
          }
        },
        "6dcf1ca96a9e42c69db33b14bc617dee": {
          "model_module": "@jupyter-widgets/controls",
          "model_name": "HBoxModel",
          "model_module_version": "1.5.0",
          "state": {
            "_dom_classes": [],
            "_model_module": "@jupyter-widgets/controls",
            "_model_module_version": "1.5.0",
            "_model_name": "HBoxModel",
            "_view_count": null,
            "_view_module": "@jupyter-widgets/controls",
            "_view_module_version": "1.5.0",
            "_view_name": "HBoxView",
            "box_style": "",
            "children": [
              "IPY_MODEL_0567094c0d814819988921987d8044fa",
              "IPY_MODEL_b61e5d4b2e064b28b2279529275216c0",
              "IPY_MODEL_f7f1af7ae34d41cd85eea2ca8910d90c"
            ],
            "layout": "IPY_MODEL_3d5f3062b37441ea8ccbaaed50bd942c"
          }
        },
        "0567094c0d814819988921987d8044fa": {
          "model_module": "@jupyter-widgets/controls",
          "model_name": "HTMLModel",
          "model_module_version": "1.5.0",
          "state": {
            "_dom_classes": [],
            "_model_module": "@jupyter-widgets/controls",
            "_model_module_version": "1.5.0",
            "_model_name": "HTMLModel",
            "_view_count": null,
            "_view_module": "@jupyter-widgets/controls",
            "_view_module_version": "1.5.0",
            "_view_name": "HTMLView",
            "description": "",
            "description_tooltip": null,
            "layout": "IPY_MODEL_5aef3862932a4e7eb849b5f68edb7eaa",
            "placeholder": "​",
            "style": "IPY_MODEL_4b8853e2c3f64381a42bd6ae72436f0f",
            "value": "100%"
          }
        },
        "b61e5d4b2e064b28b2279529275216c0": {
          "model_module": "@jupyter-widgets/controls",
          "model_name": "FloatProgressModel",
          "model_module_version": "1.5.0",
          "state": {
            "_dom_classes": [],
            "_model_module": "@jupyter-widgets/controls",
            "_model_module_version": "1.5.0",
            "_model_name": "FloatProgressModel",
            "_view_count": null,
            "_view_module": "@jupyter-widgets/controls",
            "_view_module_version": "1.5.0",
            "_view_name": "ProgressView",
            "bar_style": "success",
            "description": "",
            "description_tooltip": null,
            "layout": "IPY_MODEL_9aef491062214c66bd798c25f6d3ff01",
            "max": 10,
            "min": 0,
            "orientation": "horizontal",
            "style": "IPY_MODEL_f94d8ff476364b5db4ded89be1154c74",
            "value": 10
          }
        },
        "f7f1af7ae34d41cd85eea2ca8910d90c": {
          "model_module": "@jupyter-widgets/controls",
          "model_name": "HTMLModel",
          "model_module_version": "1.5.0",
          "state": {
            "_dom_classes": [],
            "_model_module": "@jupyter-widgets/controls",
            "_model_module_version": "1.5.0",
            "_model_name": "HTMLModel",
            "_view_count": null,
            "_view_module": "@jupyter-widgets/controls",
            "_view_module_version": "1.5.0",
            "_view_name": "HTMLView",
            "description": "",
            "description_tooltip": null,
            "layout": "IPY_MODEL_c38b353729e44b4dbf666bba967bc4fb",
            "placeholder": "​",
            "style": "IPY_MODEL_11d4cec47cab472dae5ac62c9d4930be",
            "value": " 10/10 [00:58&lt;00:00,  5.77s/it]"
          }
        },
        "3d5f3062b37441ea8ccbaaed50bd942c": {
          "model_module": "@jupyter-widgets/base",
          "model_name": "LayoutModel",
          "model_module_version": "1.2.0",
          "state": {
            "_model_module": "@jupyter-widgets/base",
            "_model_module_version": "1.2.0",
            "_model_name": "LayoutModel",
            "_view_count": null,
            "_view_module": "@jupyter-widgets/base",
            "_view_module_version": "1.2.0",
            "_view_name": "LayoutView",
            "align_content": null,
            "align_items": null,
            "align_self": null,
            "border": null,
            "bottom": null,
            "display": null,
            "flex": null,
            "flex_flow": null,
            "grid_area": null,
            "grid_auto_columns": null,
            "grid_auto_flow": null,
            "grid_auto_rows": null,
            "grid_column": null,
            "grid_gap": null,
            "grid_row": null,
            "grid_template_areas": null,
            "grid_template_columns": null,
            "grid_template_rows": null,
            "height": null,
            "justify_content": null,
            "justify_items": null,
            "left": null,
            "margin": null,
            "max_height": null,
            "max_width": null,
            "min_height": null,
            "min_width": null,
            "object_fit": null,
            "object_position": null,
            "order": null,
            "overflow": null,
            "overflow_x": null,
            "overflow_y": null,
            "padding": null,
            "right": null,
            "top": null,
            "visibility": null,
            "width": null
          }
        },
        "5aef3862932a4e7eb849b5f68edb7eaa": {
          "model_module": "@jupyter-widgets/base",
          "model_name": "LayoutModel",
          "model_module_version": "1.2.0",
          "state": {
            "_model_module": "@jupyter-widgets/base",
            "_model_module_version": "1.2.0",
            "_model_name": "LayoutModel",
            "_view_count": null,
            "_view_module": "@jupyter-widgets/base",
            "_view_module_version": "1.2.0",
            "_view_name": "LayoutView",
            "align_content": null,
            "align_items": null,
            "align_self": null,
            "border": null,
            "bottom": null,
            "display": null,
            "flex": null,
            "flex_flow": null,
            "grid_area": null,
            "grid_auto_columns": null,
            "grid_auto_flow": null,
            "grid_auto_rows": null,
            "grid_column": null,
            "grid_gap": null,
            "grid_row": null,
            "grid_template_areas": null,
            "grid_template_columns": null,
            "grid_template_rows": null,
            "height": null,
            "justify_content": null,
            "justify_items": null,
            "left": null,
            "margin": null,
            "max_height": null,
            "max_width": null,
            "min_height": null,
            "min_width": null,
            "object_fit": null,
            "object_position": null,
            "order": null,
            "overflow": null,
            "overflow_x": null,
            "overflow_y": null,
            "padding": null,
            "right": null,
            "top": null,
            "visibility": null,
            "width": null
          }
        },
        "4b8853e2c3f64381a42bd6ae72436f0f": {
          "model_module": "@jupyter-widgets/controls",
          "model_name": "DescriptionStyleModel",
          "model_module_version": "1.5.0",
          "state": {
            "_model_module": "@jupyter-widgets/controls",
            "_model_module_version": "1.5.0",
            "_model_name": "DescriptionStyleModel",
            "_view_count": null,
            "_view_module": "@jupyter-widgets/base",
            "_view_module_version": "1.2.0",
            "_view_name": "StyleView",
            "description_width": ""
          }
        },
        "9aef491062214c66bd798c25f6d3ff01": {
          "model_module": "@jupyter-widgets/base",
          "model_name": "LayoutModel",
          "model_module_version": "1.2.0",
          "state": {
            "_model_module": "@jupyter-widgets/base",
            "_model_module_version": "1.2.0",
            "_model_name": "LayoutModel",
            "_view_count": null,
            "_view_module": "@jupyter-widgets/base",
            "_view_module_version": "1.2.0",
            "_view_name": "LayoutView",
            "align_content": null,
            "align_items": null,
            "align_self": null,
            "border": null,
            "bottom": null,
            "display": null,
            "flex": null,
            "flex_flow": null,
            "grid_area": null,
            "grid_auto_columns": null,
            "grid_auto_flow": null,
            "grid_auto_rows": null,
            "grid_column": null,
            "grid_gap": null,
            "grid_row": null,
            "grid_template_areas": null,
            "grid_template_columns": null,
            "grid_template_rows": null,
            "height": null,
            "justify_content": null,
            "justify_items": null,
            "left": null,
            "margin": null,
            "max_height": null,
            "max_width": null,
            "min_height": null,
            "min_width": null,
            "object_fit": null,
            "object_position": null,
            "order": null,
            "overflow": null,
            "overflow_x": null,
            "overflow_y": null,
            "padding": null,
            "right": null,
            "top": null,
            "visibility": null,
            "width": null
          }
        },
        "f94d8ff476364b5db4ded89be1154c74": {
          "model_module": "@jupyter-widgets/controls",
          "model_name": "ProgressStyleModel",
          "model_module_version": "1.5.0",
          "state": {
            "_model_module": "@jupyter-widgets/controls",
            "_model_module_version": "1.5.0",
            "_model_name": "ProgressStyleModel",
            "_view_count": null,
            "_view_module": "@jupyter-widgets/base",
            "_view_module_version": "1.2.0",
            "_view_name": "StyleView",
            "bar_color": null,
            "description_width": ""
          }
        },
        "c38b353729e44b4dbf666bba967bc4fb": {
          "model_module": "@jupyter-widgets/base",
          "model_name": "LayoutModel",
          "model_module_version": "1.2.0",
          "state": {
            "_model_module": "@jupyter-widgets/base",
            "_model_module_version": "1.2.0",
            "_model_name": "LayoutModel",
            "_view_count": null,
            "_view_module": "@jupyter-widgets/base",
            "_view_module_version": "1.2.0",
            "_view_name": "LayoutView",
            "align_content": null,
            "align_items": null,
            "align_self": null,
            "border": null,
            "bottom": null,
            "display": null,
            "flex": null,
            "flex_flow": null,
            "grid_area": null,
            "grid_auto_columns": null,
            "grid_auto_flow": null,
            "grid_auto_rows": null,
            "grid_column": null,
            "grid_gap": null,
            "grid_row": null,
            "grid_template_areas": null,
            "grid_template_columns": null,
            "grid_template_rows": null,
            "height": null,
            "justify_content": null,
            "justify_items": null,
            "left": null,
            "margin": null,
            "max_height": null,
            "max_width": null,
            "min_height": null,
            "min_width": null,
            "object_fit": null,
            "object_position": null,
            "order": null,
            "overflow": null,
            "overflow_x": null,
            "overflow_y": null,
            "padding": null,
            "right": null,
            "top": null,
            "visibility": null,
            "width": null
          }
        },
        "11d4cec47cab472dae5ac62c9d4930be": {
          "model_module": "@jupyter-widgets/controls",
          "model_name": "DescriptionStyleModel",
          "model_module_version": "1.5.0",
          "state": {
            "_model_module": "@jupyter-widgets/controls",
            "_model_module_version": "1.5.0",
            "_model_name": "DescriptionStyleModel",
            "_view_count": null,
            "_view_module": "@jupyter-widgets/base",
            "_view_module_version": "1.2.0",
            "_view_name": "StyleView",
            "description_width": ""
          }
        },
        "7adfea4c0e674bcb842a33598769d404": {
          "model_module": "@jupyter-widgets/controls",
          "model_name": "HBoxModel",
          "model_module_version": "1.5.0",
          "state": {
            "_dom_classes": [],
            "_model_module": "@jupyter-widgets/controls",
            "_model_module_version": "1.5.0",
            "_model_name": "HBoxModel",
            "_view_count": null,
            "_view_module": "@jupyter-widgets/controls",
            "_view_module_version": "1.5.0",
            "_view_name": "HBoxView",
            "box_style": "",
            "children": [
              "IPY_MODEL_f44db470a37b44bc98b43f85357e7e1a",
              "IPY_MODEL_6d8fb490bfb74e87b5641a9a39d25a27",
              "IPY_MODEL_150b3274d7a940379bb391ed8d4ff35f"
            ],
            "layout": "IPY_MODEL_d93d309256204c30a6a38a2f3fdb774d"
          }
        },
        "f44db470a37b44bc98b43f85357e7e1a": {
          "model_module": "@jupyter-widgets/controls",
          "model_name": "HTMLModel",
          "model_module_version": "1.5.0",
          "state": {
            "_dom_classes": [],
            "_model_module": "@jupyter-widgets/controls",
            "_model_module_version": "1.5.0",
            "_model_name": "HTMLModel",
            "_view_count": null,
            "_view_module": "@jupyter-widgets/controls",
            "_view_module_version": "1.5.0",
            "_view_name": "HTMLView",
            "description": "",
            "description_tooltip": null,
            "layout": "IPY_MODEL_08fbea0ded1d4d9e901d3877994d805b",
            "placeholder": "​",
            "style": "IPY_MODEL_65f737fa7a6342f3b2d47f1f1690b271",
            "value": "100%"
          }
        },
        "6d8fb490bfb74e87b5641a9a39d25a27": {
          "model_module": "@jupyter-widgets/controls",
          "model_name": "FloatProgressModel",
          "model_module_version": "1.5.0",
          "state": {
            "_dom_classes": [],
            "_model_module": "@jupyter-widgets/controls",
            "_model_module_version": "1.5.0",
            "_model_name": "FloatProgressModel",
            "_view_count": null,
            "_view_module": "@jupyter-widgets/controls",
            "_view_module_version": "1.5.0",
            "_view_name": "ProgressView",
            "bar_style": "success",
            "description": "",
            "description_tooltip": null,
            "layout": "IPY_MODEL_f1436ba05f9b4e7bbf41710214f56304",
            "max": 10,
            "min": 0,
            "orientation": "horizontal",
            "style": "IPY_MODEL_b9a2b50b97e1456ea5fcdc75a27d24f3",
            "value": 10
          }
        },
        "150b3274d7a940379bb391ed8d4ff35f": {
          "model_module": "@jupyter-widgets/controls",
          "model_name": "HTMLModel",
          "model_module_version": "1.5.0",
          "state": {
            "_dom_classes": [],
            "_model_module": "@jupyter-widgets/controls",
            "_model_module_version": "1.5.0",
            "_model_name": "HTMLModel",
            "_view_count": null,
            "_view_module": "@jupyter-widgets/controls",
            "_view_module_version": "1.5.0",
            "_view_name": "HTMLView",
            "description": "",
            "description_tooltip": null,
            "layout": "IPY_MODEL_e3df0d883e4a45078050ea56e044a278",
            "placeholder": "​",
            "style": "IPY_MODEL_8385812d27c346b38e01463b4a285d6a",
            "value": " 10/10 [04:03&lt;00:00, 24.32s/it]"
          }
        },
        "d93d309256204c30a6a38a2f3fdb774d": {
          "model_module": "@jupyter-widgets/base",
          "model_name": "LayoutModel",
          "model_module_version": "1.2.0",
          "state": {
            "_model_module": "@jupyter-widgets/base",
            "_model_module_version": "1.2.0",
            "_model_name": "LayoutModel",
            "_view_count": null,
            "_view_module": "@jupyter-widgets/base",
            "_view_module_version": "1.2.0",
            "_view_name": "LayoutView",
            "align_content": null,
            "align_items": null,
            "align_self": null,
            "border": null,
            "bottom": null,
            "display": null,
            "flex": null,
            "flex_flow": null,
            "grid_area": null,
            "grid_auto_columns": null,
            "grid_auto_flow": null,
            "grid_auto_rows": null,
            "grid_column": null,
            "grid_gap": null,
            "grid_row": null,
            "grid_template_areas": null,
            "grid_template_columns": null,
            "grid_template_rows": null,
            "height": null,
            "justify_content": null,
            "justify_items": null,
            "left": null,
            "margin": null,
            "max_height": null,
            "max_width": null,
            "min_height": null,
            "min_width": null,
            "object_fit": null,
            "object_position": null,
            "order": null,
            "overflow": null,
            "overflow_x": null,
            "overflow_y": null,
            "padding": null,
            "right": null,
            "top": null,
            "visibility": null,
            "width": null
          }
        },
        "08fbea0ded1d4d9e901d3877994d805b": {
          "model_module": "@jupyter-widgets/base",
          "model_name": "LayoutModel",
          "model_module_version": "1.2.0",
          "state": {
            "_model_module": "@jupyter-widgets/base",
            "_model_module_version": "1.2.0",
            "_model_name": "LayoutModel",
            "_view_count": null,
            "_view_module": "@jupyter-widgets/base",
            "_view_module_version": "1.2.0",
            "_view_name": "LayoutView",
            "align_content": null,
            "align_items": null,
            "align_self": null,
            "border": null,
            "bottom": null,
            "display": null,
            "flex": null,
            "flex_flow": null,
            "grid_area": null,
            "grid_auto_columns": null,
            "grid_auto_flow": null,
            "grid_auto_rows": null,
            "grid_column": null,
            "grid_gap": null,
            "grid_row": null,
            "grid_template_areas": null,
            "grid_template_columns": null,
            "grid_template_rows": null,
            "height": null,
            "justify_content": null,
            "justify_items": null,
            "left": null,
            "margin": null,
            "max_height": null,
            "max_width": null,
            "min_height": null,
            "min_width": null,
            "object_fit": null,
            "object_position": null,
            "order": null,
            "overflow": null,
            "overflow_x": null,
            "overflow_y": null,
            "padding": null,
            "right": null,
            "top": null,
            "visibility": null,
            "width": null
          }
        },
        "65f737fa7a6342f3b2d47f1f1690b271": {
          "model_module": "@jupyter-widgets/controls",
          "model_name": "DescriptionStyleModel",
          "model_module_version": "1.5.0",
          "state": {
            "_model_module": "@jupyter-widgets/controls",
            "_model_module_version": "1.5.0",
            "_model_name": "DescriptionStyleModel",
            "_view_count": null,
            "_view_module": "@jupyter-widgets/base",
            "_view_module_version": "1.2.0",
            "_view_name": "StyleView",
            "description_width": ""
          }
        },
        "f1436ba05f9b4e7bbf41710214f56304": {
          "model_module": "@jupyter-widgets/base",
          "model_name": "LayoutModel",
          "model_module_version": "1.2.0",
          "state": {
            "_model_module": "@jupyter-widgets/base",
            "_model_module_version": "1.2.0",
            "_model_name": "LayoutModel",
            "_view_count": null,
            "_view_module": "@jupyter-widgets/base",
            "_view_module_version": "1.2.0",
            "_view_name": "LayoutView",
            "align_content": null,
            "align_items": null,
            "align_self": null,
            "border": null,
            "bottom": null,
            "display": null,
            "flex": null,
            "flex_flow": null,
            "grid_area": null,
            "grid_auto_columns": null,
            "grid_auto_flow": null,
            "grid_auto_rows": null,
            "grid_column": null,
            "grid_gap": null,
            "grid_row": null,
            "grid_template_areas": null,
            "grid_template_columns": null,
            "grid_template_rows": null,
            "height": null,
            "justify_content": null,
            "justify_items": null,
            "left": null,
            "margin": null,
            "max_height": null,
            "max_width": null,
            "min_height": null,
            "min_width": null,
            "object_fit": null,
            "object_position": null,
            "order": null,
            "overflow": null,
            "overflow_x": null,
            "overflow_y": null,
            "padding": null,
            "right": null,
            "top": null,
            "visibility": null,
            "width": null
          }
        },
        "b9a2b50b97e1456ea5fcdc75a27d24f3": {
          "model_module": "@jupyter-widgets/controls",
          "model_name": "ProgressStyleModel",
          "model_module_version": "1.5.0",
          "state": {
            "_model_module": "@jupyter-widgets/controls",
            "_model_module_version": "1.5.0",
            "_model_name": "ProgressStyleModel",
            "_view_count": null,
            "_view_module": "@jupyter-widgets/base",
            "_view_module_version": "1.2.0",
            "_view_name": "StyleView",
            "bar_color": null,
            "description_width": ""
          }
        },
        "e3df0d883e4a45078050ea56e044a278": {
          "model_module": "@jupyter-widgets/base",
          "model_name": "LayoutModel",
          "model_module_version": "1.2.0",
          "state": {
            "_model_module": "@jupyter-widgets/base",
            "_model_module_version": "1.2.0",
            "_model_name": "LayoutModel",
            "_view_count": null,
            "_view_module": "@jupyter-widgets/base",
            "_view_module_version": "1.2.0",
            "_view_name": "LayoutView",
            "align_content": null,
            "align_items": null,
            "align_self": null,
            "border": null,
            "bottom": null,
            "display": null,
            "flex": null,
            "flex_flow": null,
            "grid_area": null,
            "grid_auto_columns": null,
            "grid_auto_flow": null,
            "grid_auto_rows": null,
            "grid_column": null,
            "grid_gap": null,
            "grid_row": null,
            "grid_template_areas": null,
            "grid_template_columns": null,
            "grid_template_rows": null,
            "height": null,
            "justify_content": null,
            "justify_items": null,
            "left": null,
            "margin": null,
            "max_height": null,
            "max_width": null,
            "min_height": null,
            "min_width": null,
            "object_fit": null,
            "object_position": null,
            "order": null,
            "overflow": null,
            "overflow_x": null,
            "overflow_y": null,
            "padding": null,
            "right": null,
            "top": null,
            "visibility": null,
            "width": null
          }
        },
        "8385812d27c346b38e01463b4a285d6a": {
          "model_module": "@jupyter-widgets/controls",
          "model_name": "DescriptionStyleModel",
          "model_module_version": "1.5.0",
          "state": {
            "_model_module": "@jupyter-widgets/controls",
            "_model_module_version": "1.5.0",
            "_model_name": "DescriptionStyleModel",
            "_view_count": null,
            "_view_module": "@jupyter-widgets/base",
            "_view_module_version": "1.2.0",
            "_view_name": "StyleView",
            "description_width": ""
          }
        }
      }
    }
  },
  "cells": [
    {
      "cell_type": "markdown",
      "metadata": {
        "id": "view-in-github",
        "colab_type": "text"
      },
      "source": [
        "<a href=\"https://colab.research.google.com/github/torrhen/pytorch/blob/main/08_pytorch_paper_replicating_ex.ipynb\" target=\"_parent\"><img src=\"https://colab.research.google.com/assets/colab-badge.svg\" alt=\"Open In Colab\"/></a>"
      ]
    },
    {
      "cell_type": "markdown",
      "source": [
        "# 08. PyTorch Experiment Tracking Exercises\n",
        "\n",
        "Welcome to the 08. PyTorch Paper Replicating exercises.\n",
        "\n",
        "Your objective is to write code to satisify each of the exercises below.\n",
        "\n",
        "Some starter code has been provided to make sure you have all the resources you need.\n",
        "\n",
        "> **Note:** There may be more than one solution to each of the exercises.\n",
        "\n",
        "## Resources\n",
        "\n",
        "1. These exercises/solutions are based on [section 08. PyTorch Paper Replicating](https://www.learnpytorch.io/08_pytorch_paper_replicating/) of the Learn PyTorch for Deep Learning course by Zero to Mastery.\n",
        "2. See a live [walkthrough of the solutions (errors and all) on YouTube](https://youtu.be/tjpW_BY8y3g) (but try the exercises yourself first!).\n",
        "3. See [all solutions on the course GitHub](https://github.com/mrdbourke/pytorch-deep-learning/tree/main/extras/solutions).\n",
        "\n",
        "> **Note:** The first section of this notebook is dedicated to getting various helper functions and datasets used for the exercises. The exercises start at the heading \"Exercise 1: ...\"."
      ],
      "metadata": {
        "id": "zNqPNlYylluR"
      }
    },
    {
      "cell_type": "markdown",
      "source": [
        "### Get various imports and helper functions\n",
        "\n",
        "The code in the following cells prepares imports and data for the exercises below. They are taken from [08. PyTorch Paper Replicating](https://www.learnpytorch.io/08_pytorch_paper_replicating/). "
      ],
      "metadata": {
        "id": "sf8ab9cyHTzU"
      }
    },
    {
      "cell_type": "code",
      "source": [
        "# For this notebook to run with updated APIs, we need torch 1.12+ and torchvision 0.13+\n",
        "try:\n",
        "    import torch\n",
        "    import torchvision\n",
        "    assert int(torch.__version__.split(\".\")[1]) >= 12, \"torch version should be 1.12+\"\n",
        "    assert int(torchvision.__version__.split(\".\")[1]) >= 13, \"torchvision version should be 0.13+\"\n",
        "    print(f\"torch version: {torch.__version__}\")\n",
        "    print(f\"torchvision version: {torchvision.__version__}\")\n",
        "except:\n",
        "    print(f\"[INFO] torch/torchvision versions not as required, installing nightly versions.\")\n",
        "    !pip3 install -U --pre torch torchvision torchaudio --extra-index-url https://download.pytorch.org/whl/nightly/cu113\n",
        "    import torch\n",
        "    import torchvision\n",
        "    print(f\"torch version: {torch.__version__}\")\n",
        "    print(f\"torchvision version: {torchvision.__version__}\")\n"
      ],
      "metadata": {
        "colab": {
          "base_uri": "https://localhost:8080/"
        },
        "id": "ChRaHUSJ8DYZ",
        "outputId": "3536997b-b24d-4b09-c525-f50bcbfe19de"
      },
      "execution_count": 1,
      "outputs": [
        {
          "output_type": "stream",
          "name": "stdout",
          "text": [
            "torch version: 1.13.1+cu116\n",
            "torchvision version: 0.14.1+cu116\n"
          ]
        }
      ]
    },
    {
      "cell_type": "code",
      "source": [
        "# Continue with regular imports\n",
        "import matplotlib.pyplot as plt\n",
        "import torch\n",
        "import torchvision\n",
        "\n",
        "from torch import nn\n",
        "from torchvision import transforms\n",
        "\n",
        "# Try to get torchinfo, install it if it doesn't work\n",
        "try:\n",
        "    from torchinfo import summary\n",
        "except:\n",
        "    print(\"[INFO] Couldn't find torchinfo... installing it.\")\n",
        "    !pip install -q torchinfo\n",
        "    from torchinfo import summary\n",
        "\n",
        "# Try to import the going_modular directory, download it from GitHub if it doesn't work\n",
        "try:\n",
        "    from going_modular.going_modular import data_setup, engine\n",
        "    from helper_functions import download_data, set_seeds, plot_loss_curves\n",
        "except:\n",
        "    # Get the going_modular scripts\n",
        "    print(\"[INFO] Couldn't find going_modular or helper_functions scripts... downloading them from GitHub.\")\n",
        "    !git clone https://github.com/mrdbourke/pytorch-deep-learning\n",
        "    !mv pytorch-deep-learning/going_modular .\n",
        "    !mv pytorch-deep-learning/helper_functions.py . # get the helper_functions.py script\n",
        "    !rm -rf pytorch-deep-learning\n",
        "    from going_modular.going_modular import data_setup, engine\n",
        "    from helper_functions import download_data, set_seeds, plot_loss_curves"
      ],
      "metadata": {
        "id": "Y5H5P8EjCNGK"
      },
      "execution_count": 2,
      "outputs": []
    },
    {
      "cell_type": "code",
      "source": [
        "device = \"cuda\" if torch.cuda.is_available() else \"cpu\"\n",
        "device"
      ],
      "metadata": {
        "colab": {
          "base_uri": "https://localhost:8080/",
          "height": 35
        },
        "id": "bE1AAH_uCjiP",
        "outputId": "cde93843-b9e4-4e16-91d0-d3ba9aa7b711"
      },
      "execution_count": 3,
      "outputs": [
        {
          "output_type": "execute_result",
          "data": {
            "text/plain": [
              "'cuda'"
            ],
            "application/vnd.google.colaboratory.intrinsic+json": {
              "type": "string"
            }
          },
          "metadata": {},
          "execution_count": 3
        }
      ]
    },
    {
      "cell_type": "markdown",
      "source": [
        "### Get data\n",
        "\n",
        "Want to download the data we've been using in PyTorch Paper Replicating: https://www.learnpytorch.io/08_pytorch_paper_replicating/#1-get-data"
      ],
      "metadata": {
        "id": "GmS5yuvxCpLp"
      }
    },
    {
      "cell_type": "code",
      "source": [
        "# Download pizza, steak, sushi images from GitHub\n",
        "image_path = download_data(source=\"https://github.com/mrdbourke/pytorch-deep-learning/raw/main/data/pizza_steak_sushi.zip\",\n",
        "                           destination=\"pizza_steak_sushi\")\n",
        "image_path"
      ],
      "metadata": {
        "colab": {
          "base_uri": "https://localhost:8080/"
        },
        "id": "dm772wqgCzN9",
        "outputId": "26c07ca0-e5c4-436c-c922-3f76831c0156"
      },
      "execution_count": 4,
      "outputs": [
        {
          "output_type": "stream",
          "name": "stdout",
          "text": [
            "[INFO] data/pizza_steak_sushi directory exists, skipping download.\n"
          ]
        },
        {
          "output_type": "execute_result",
          "data": {
            "text/plain": [
              "PosixPath('data/pizza_steak_sushi')"
            ]
          },
          "metadata": {},
          "execution_count": 4
        }
      ]
    },
    {
      "cell_type": "code",
      "source": [
        "# Setup directory paths to train and test images\n",
        "train_dir = image_path / \"train\"\n",
        "test_dir = image_path / \"test\""
      ],
      "metadata": {
        "id": "r1ML2c-dCzCi"
      },
      "execution_count": 5,
      "outputs": []
    },
    {
      "cell_type": "markdown",
      "source": [
        "### Preprocess data\n",
        "\n",
        "Turn images into tensors using same code as PyTorch Paper Replicating section 2.1 and 2.2: https://www.learnpytorch.io/08_pytorch_paper_replicating/#21-prepare-transforms-for-images"
      ],
      "metadata": {
        "id": "nNBZ_2h_Cy86"
      }
    },
    {
      "cell_type": "code",
      "source": [
        "# Create image size (from Table 3 in the ViT paper) \n",
        "IMG_SIZE = 224\n",
        "\n",
        "# Create transform pipeline manually\n",
        "manual_transforms = transforms.Compose([\n",
        "    transforms.Resize((IMG_SIZE, IMG_SIZE)),\n",
        "    transforms.ToTensor(),\n",
        "])           \n",
        "print(f\"Manually created transforms: {manual_transforms}\")"
      ],
      "metadata": {
        "colab": {
          "base_uri": "https://localhost:8080/"
        },
        "id": "mU0T4gP3DJdF",
        "outputId": "76fc8de1-960e-487f-db13-d3f0538372a3"
      },
      "execution_count": 6,
      "outputs": [
        {
          "output_type": "stream",
          "name": "stdout",
          "text": [
            "Manually created transforms: Compose(\n",
            "    Resize(size=(224, 224), interpolation=bilinear, max_size=None, antialias=None)\n",
            "    ToTensor()\n",
            ")\n"
          ]
        }
      ]
    },
    {
      "cell_type": "code",
      "source": [
        "# Set the batch size\n",
        "BATCH_SIZE = 32 # this is lower than the ViT paper but it's because we're starting small\n",
        "\n",
        "# Create data loaders\n",
        "train_dataloader, test_dataloader, class_names = data_setup.create_dataloaders(\n",
        "    train_dir=train_dir,\n",
        "    test_dir=test_dir,\n",
        "    transform=manual_transforms, # use manually created transforms\n",
        "    batch_size=BATCH_SIZE\n",
        ")\n",
        "\n",
        "train_dataloader, test_dataloader, class_names"
      ],
      "metadata": {
        "colab": {
          "base_uri": "https://localhost:8080/"
        },
        "id": "W4vWgIprDJau",
        "outputId": "fba95f4f-5425-43a2-f195-f229e30e0da5"
      },
      "execution_count": 7,
      "outputs": [
        {
          "output_type": "execute_result",
          "data": {
            "text/plain": [
              "(<torch.utils.data.dataloader.DataLoader at 0x7f46a93c7fd0>,\n",
              " <torch.utils.data.dataloader.DataLoader at 0x7f46acc9e8e0>,\n",
              " ['pizza', 'steak', 'sushi'])"
            ]
          },
          "metadata": {},
          "execution_count": 7
        }
      ]
    },
    {
      "cell_type": "code",
      "source": [
        "# Get a batch of images\n",
        "image_batch, label_batch = next(iter(train_dataloader))\n",
        "\n",
        "# Get a single image from the batch\n",
        "image, label = image_batch[0], label_batch[0]\n",
        "\n",
        "# View the batch shapes\n",
        "image.shape, label"
      ],
      "metadata": {
        "colab": {
          "base_uri": "https://localhost:8080/"
        },
        "id": "u7eLIFHyDJRr",
        "outputId": "b7772341-c18e-4438-f832-1f1ef4d28092"
      },
      "execution_count": 8,
      "outputs": [
        {
          "output_type": "execute_result",
          "data": {
            "text/plain": [
              "(torch.Size([3, 224, 224]), tensor(1))"
            ]
          },
          "metadata": {},
          "execution_count": 8
        }
      ]
    },
    {
      "cell_type": "code",
      "source": [
        "# Plot image with matplotlib\n",
        "plt.imshow(image.permute(1, 2, 0)) # rearrange image dimensions to suit matplotlib [color_channels, height, width] -> [height, width, color_channels]\n",
        "plt.title(class_names[label])\n",
        "plt.axis(False);"
      ],
      "metadata": {
        "colab": {
          "base_uri": "https://localhost:8080/",
          "height": 264
        },
        "id": "2yyNHCmCDbSR",
        "outputId": "46783607-7a53-4a62-f68d-f6bb36e8c6fa"
      },
      "execution_count": 9,
      "outputs": [
        {
          "output_type": "display_data",
          "data": {
            "text/plain": [
              "<Figure size 432x288 with 1 Axes>"
            ],
            "image/png": "[encoded data removed]"
          },
          "metadata": {
            "needs_background": "light"
          }
        }
      ]
    },
    {
      "cell_type": "markdown",
      "source": [
        "## 1. Replicate the ViT architecture we created with in-built [PyTorch transformer layers](https://pytorch.org/docs/stable/nn.html#transformer-layers).\n",
        "\n",
        "* You'll want to look into replacing our `TransformerEncoderBlock()` class with [`torch.nn.TransformerEncoderLayer()`](https://pytorch.org/docs/stable/generated/torch.nn.TransformerEncoderLayer.html#torch.nn.TransformerEncoderLayer) (these contain the same layers as our custom blocks). \n",
        "* You can stack `torch.nn.TransformerEncoderLayer()`'s on top of each other with [`torch.nn.TransformerEncoder()`](https://pytorch.org/docs/stable/generated/torch.nn.TransformerEncoder.html#torch.nn.TransformerEncoder)."
      ],
      "metadata": {
        "id": "nwmoMhW8IqSu"
      }
    },
    {
      "cell_type": "code",
      "source": [
        "NUM_TRANSFORMER_LAYERS = 12\n",
        "EMBEDDING_DIM = 768\n",
        "NUM_HEADS = 12\n",
        "MLP_SIZE = 3072\n",
        "MLP_DROPOUT = 0.1\n",
        "\n",
        "# create inbuilt transformer encoder layer\n",
        "transformer_encoder_layer = nn.TransformerEncoderLayer(d_model=EMBEDDING_DIM,\n",
        "                                                       nhead=NUM_HEADS,\n",
        "                                                       dim_feedforward=MLP_SIZE,\n",
        "                                                       dropout=MLP_DROPOUT,\n",
        "                                                       activation='gelu',\n",
        "                                                       batch_first=True,\n",
        "                                                       norm_first=True)\n",
        "\n",
        "# create inbuilt transformer encoder using stacked transformer encoder layers\n",
        "transformer_encoder = nn.TransformerEncoder(transformer_encoder_layer, NUM_TRANSFORMER_LAYERS)\n",
        "\n",
        "# display architecture and layers of transformer encoder\n",
        "summary(transformer_encoder, input_size=(1, 197, EMBEDDING_DIM), col_names=['input_size', 'output_size', 'trainable'], col_width=20, row_settings=['var_names'])"
      ],
      "metadata": {
        "id": "pmDd_YZ7VSrL",
        "colab": {
          "base_uri": "https://localhost:8080/"
        },
        "outputId": "69995b91-f4c1-4006-80cb-e8367f950ddb"
      },
      "execution_count": 10,
      "outputs": [
        {
          "output_type": "execute_result",
          "data": {
            "text/plain": [
              "====================================================================================================\n",
              "Layer (type (var_name))                  Input Shape          Output Shape         Trainable\n",
              "====================================================================================================\n",
              "TransformerEncoder (TransformerEncoder)  [1, 197, 768]        [1, 197, 768]        True\n",
              "├─ModuleList (layers)                    --                   --                   True\n",
              "│    └─TransformerEncoderLayer (0)       [1, 197, 768]        [1, 197, 768]        True\n",
              "│    └─TransformerEncoderLayer (1)       [1, 197, 768]        [1, 197, 768]        True\n",
              "│    └─TransformerEncoderLayer (2)       [1, 197, 768]        [1, 197, 768]        True\n",
              "│    └─TransformerEncoderLayer (3)       [1, 197, 768]        [1, 197, 768]        True\n",
              "│    └─TransformerEncoderLayer (4)       [1, 197, 768]        [1, 197, 768]        True\n",
              "│    └─TransformerEncoderLayer (5)       [1, 197, 768]        [1, 197, 768]        True\n",
              "│    └─TransformerEncoderLayer (6)       [1, 197, 768]        [1, 197, 768]        True\n",
              "│    └─TransformerEncoderLayer (7)       [1, 197, 768]        [1, 197, 768]        True\n",
              "│    └─TransformerEncoderLayer (8)       [1, 197, 768]        [1, 197, 768]        True\n",
              "│    └─TransformerEncoderLayer (9)       [1, 197, 768]        [1, 197, 768]        True\n",
              "│    └─TransformerEncoderLayer (10)      [1, 197, 768]        [1, 197, 768]        True\n",
              "│    └─TransformerEncoderLayer (11)      [1, 197, 768]        [1, 197, 768]        True\n",
              "====================================================================================================\n",
              "Total params: 85,054,464\n",
              "Trainable params: 85,054,464\n",
              "Non-trainable params: 0\n",
              "Total mult-adds (M): 0.00\n",
              "====================================================================================================\n",
              "Input size (MB): 0.61\n",
              "Forward/backward pass size (MB): 0.00\n",
              "Params size (MB): 0.00\n",
              "Estimated Total Size (MB): 0.61\n",
              "===================================================================================================="
            ]
          },
          "metadata": {},
          "execution_count": 10
        }
      ]
    },
    {
      "cell_type": "markdown",
      "source": [
        "## 2. Turn the custom ViT architecture we created into a Python script, for example, `vit.py`.\n",
        "\n",
        "* You should be able to import an entire ViT model using something like`from vit import ViT`.\n",
        "* We covered the art of turning code cells into Python scrips in [05. PyTorch Going Modular](https://www.learnpytorch.io/05_pytorch_going_modular/). \n"
      ],
      "metadata": {
        "id": "MBWnDZao9w_5"
      }
    },
    {
      "cell_type": "code",
      "source": [
        "%%writefile vit.py\n",
        "import torch\n",
        "from torch import nn\n",
        "\n",
        "# custom ViT model\n",
        "class ViT(nn.Module):\n",
        "  def __init__(self, img_size=224,\n",
        "               patch_size=16,\n",
        "               num_channels=3,\n",
        "               num_transformer_layers=12,\n",
        "               embedding_dim=768,\n",
        "               num_heads=12,\n",
        "               attn_dropout=0,\n",
        "               mlp_size=3072,\n",
        "               embedding_dropout=0.1,\n",
        "               mlp_dropout=0.1,\n",
        "               num_classes=1000):\n",
        "    \n",
        "    # instantiate base class\n",
        "    super(ViT, self).__init__()\n",
        "    # ensure that patches cover the entire image input\n",
        "    assert(img_size % patch_size == 0)\n",
        "    # calculate the number of patches within the image input, N = WH / p^2\n",
        "    self.num_patches = (img_size * img_size) // patch_size**2\n",
        "\n",
        "    # class embedding\n",
        "    self.class_embedding = nn.Parameter(torch.ones(1, 1, embedding_dim))\n",
        "    # position embedding\n",
        "    self.position_embedding = nn.Parameter(torch.ones(1, self.num_patches+1, embedding_dim))\n",
        "    # embedding dropout layer\n",
        "    self.embedding_dropout = nn.Dropout(p=embedding_dropout)\n",
        "    # patch embedding layer\n",
        "    self.patch_embedding = PatchEmbedding(in_channels=num_channels, embedding_size=embedding_dim, patch_size=patch_size)\n",
        "    # transformer encoder using stacked transformer encoder blocks\n",
        "    self.transform_encoder = nn.Sequential(\n",
        "        *[TransformEncoderBlock(embedding_dim=embedding_dim, num_heads=num_heads, attn_dropout=attn_dropout, mlp_size=mlp_size, mlp_dropout=mlp_dropout) for _ in range(num_transformer_layers)]\n",
        "    )\n",
        "    # classifier head\n",
        "    self.classifier = nn.Sequential(\n",
        "        nn.LayerNorm(normalized_shape=embedding_dim),\n",
        "        nn.Linear(in_features=embedding_dim, out_features=num_classes)\n",
        "    )\n",
        "\n",
        "  def forward(self, x):\n",
        "    # get batch size of input\n",
        "    batch_size = x.shape[0]\n",
        "    # create patch embedding from input images\n",
        "    patch_embedding = self.patch_embedding(x)\n",
        "    # expand class embedding token to cover the entire batch\n",
        "    class_embedding_token = self.class_embedding.expand(batch_size, -1, -1)\n",
        "    # prepend class embedding token to patch embedding\n",
        "    x = torch.concat((class_embedding_token, patch_embedding), dim=1)\n",
        "    # add the position embedding vector\n",
        "    x = x + self.position_embedding\n",
        "    # pass patch and position embedding through embedding dropout layer\n",
        "    x = self.embedding_dropout(x)\n",
        "    # pass patch and position embedding through complete transformer encoder\n",
        "    x = self.transform_encoder(x)\n",
        "    # pass the first logit (index 0) for every sample in the batch to the classifier\n",
        "    x = self.classifier(x[:, 0]) # embedding of the first patch for every sample in the batch [batch_size, embedding_dim]\n",
        "\n",
        "    return x\n",
        "\n",
        "\n",
        "# create custom patch embedding layer\n",
        "class PatchEmbedding(nn.Module):\n",
        "  def __init__(self, in_channels=3, embedding_size=768, patch_size=16):\n",
        "    super(PatchEmbedding, self).__init__()\n",
        "    self.in_channels = in_channels\n",
        "    self.embedding_size = embedding_size\n",
        "    self.patch_size = patch_size\n",
        "    self.embedding = nn.Sequential(\n",
        "        nn.Conv2d(in_channels=self.in_channels, out_channels=self.embedding_size, kernel_size=self.patch_size, stride=self.patch_size, padding=0),\n",
        "        # flatten patches\n",
        "        nn.Flatten(start_dim=2, end_dim=3)\n",
        "    )\n",
        "\n",
        "  def forward(self, x):\n",
        "    # check dimension of input can be divided completly by patches\n",
        "    assert(x.shape[-1] % self.patch_size == 0)\n",
        "    output = self.embedding(x)\n",
        "    # swap embedding and patch dimensions\n",
        "    return output.permute(0, 2, 1)\n",
        "\n",
        "\n",
        "# custom multi-head self attention layer\n",
        "class MultiHeadSelfAttentionBlock(nn.Module):\n",
        "  def __init__(self, embedding_dim=768, num_heads=12, attn_dropout=0):\n",
        "    super(MultiHeadSelfAttentionBlock, self).__init__()\n",
        "    self.embedding_dim = embedding_dim\n",
        "    self.num_heads = num_heads\n",
        "    self.attn_dropout = attn_dropout\n",
        "    self.layer_norm = nn.LayerNorm(normalized_shape=embedding_dim)\n",
        "    self.multihead_attn = nn.MultiheadAttention(embed_dim=self.embedding_dim,\n",
        "                                     num_heads=self.num_heads,\n",
        "                                     dropout=self.attn_dropout,\n",
        "                                     batch_first=True)\n",
        "    \n",
        "  def forward(self, x):\n",
        "    # layer normalization\n",
        "    x = self.layer_norm(x)\n",
        "    output, _ = self.multihead_attn(query=x, # query embedding\n",
        "                         key = x, # key embedding\n",
        "                         value = x, # value embedding\n",
        "                         need_weights=False)\n",
        "    return output\n",
        "\n",
        "\n",
        "# custom MLP layer\n",
        "class MLPBlock(nn.Module):\n",
        "  def __init__(self, embedding_dim=768, hidden_dim=3072, dropout=0.1):\n",
        "    super(MLPBlock, self).__init__()\n",
        "    self.layer_norm = nn.LayerNorm(normalized_shape=embedding_dim)\n",
        "    self.mlp = nn.Sequential(\n",
        "        nn.Linear(in_features=embedding_dim, out_features=hidden_dim),\n",
        "        # Gaussian Error Linear Units\n",
        "        nn.GELU(),\n",
        "        nn.Dropout(p=dropout),\n",
        "        nn.Linear(in_features=hidden_dim, out_features=embedding_dim),\n",
        "        nn.Dropout(p=dropout)\n",
        "    )\n",
        "\n",
        "  def forward(self, x):\n",
        "    # layer normalization\n",
        "    x = self.layer_norm(x)\n",
        "    # MLP block\n",
        "    output = self.mlp(x)\n",
        "    return output\n",
        "\n",
        "\n",
        "# custom transformer encoder block\n",
        "class TransformEncoderBlock(nn.Module):\n",
        "  def __init__(self, embedding_dim=768, num_heads=12, attn_dropout=0, mlp_size=3072, mlp_dropout=0.1):\n",
        "    super(TransformEncoderBlock, self).__init__()\n",
        "    self.msa = MultiHeadSelfAttentionBlock(embedding_dim, num_heads, attn_dropout)\n",
        "    self.mlp = MLPBlock(embedding_dim, mlp_size, mlp_dropout)\n",
        "\n",
        "  def forward(self, x):\n",
        "    x = self.msa(x) + x\n",
        "    x = self.mlp(x) + x\n",
        "    return x\n",
        "\n"
      ],
      "metadata": {
        "id": "NFXVZNCzVYgV",
        "colab": {
          "base_uri": "https://localhost:8080/"
        },
        "outputId": "94e5b79e-09a8-496c-93d9-46e1f42734fa"
      },
      "execution_count": 11,
      "outputs": [
        {
          "output_type": "stream",
          "name": "stdout",
          "text": [
            "Overwriting vit.py\n"
          ]
        }
      ]
    },
    {
      "cell_type": "code",
      "source": [
        "from vit import ViT\n",
        "\n",
        "# instantiate custom ViT model\n",
        "custom_vision_transformer = ViT(num_classes=len(class_names)) # modifiy the number of classes for our problem\n",
        "# display summary of ViT model\n",
        "summary(custom_vision_transformer,\n",
        "        input_size=(1, 3, 224, 224), # [batch, image_channels, image_width, image_height]\n",
        "        col_names=['input_size', 'output_size', 'trainable'],\n",
        "        col_width=20,\n",
        "        row_settings=['var_names'])"
      ],
      "metadata": {
        "colab": {
          "base_uri": "https://localhost:8080/"
        },
        "id": "KKPR5MKKPqya",
        "outputId": "c23c72c5-9913-433e-af06-b36e2bbcd9c0"
      },
      "execution_count": 12,
      "outputs": [
        {
          "output_type": "execute_result",
          "data": {
            "text/plain": [
              "========================================================================================================================\n",
              "Layer (type (var_name))                                      Input Shape          Output Shape         Trainable\n",
              "========================================================================================================================\n",
              "ViT (ViT)                                                    [1, 3, 224, 224]     [1, 3]               True\n",
              "├─PatchEmbedding (patch_embedding)                           [1, 3, 224, 224]     [1, 196, 768]        True\n",
              "│    └─Sequential (embedding)                                [1, 3, 224, 224]     [1, 768, 196]        True\n",
              "│    │    └─Conv2d (0)                                       [1, 3, 224, 224]     [1, 768, 14, 14]     True\n",
              "│    │    └─Flatten (1)                                      [1, 768, 14, 14]     [1, 768, 196]        --\n",
              "├─Dropout (embedding_dropout)                                [1, 197, 768]        [1, 197, 768]        --\n",
              "├─Sequential (transform_encoder)                             [1, 197, 768]        [1, 197, 768]        True\n",
              "│    └─TransformEncoderBlock (0)                             [1, 197, 768]        [1, 197, 768]        True\n",
              "│    │    └─MultiHeadSelfAttentionBlock (msa)                [1, 197, 768]        [1, 197, 768]        True\n",
              "│    │    └─MLPBlock (mlp)                                   [1, 197, 768]        [1, 197, 768]        True\n",
              "│    └─TransformEncoderBlock (1)                             [1, 197, 768]        [1, 197, 768]        True\n",
              "│    │    └─MultiHeadSelfAttentionBlock (msa)                [1, 197, 768]        [1, 197, 768]        True\n",
              "│    │    └─MLPBlock (mlp)                                   [1, 197, 768]        [1, 197, 768]        True\n",
              "│    └─TransformEncoderBlock (2)                             [1, 197, 768]        [1, 197, 768]        True\n",
              "│    │    └─MultiHeadSelfAttentionBlock (msa)                [1, 197, 768]        [1, 197, 768]        True\n",
              "│    │    └─MLPBlock (mlp)                                   [1, 197, 768]        [1, 197, 768]        True\n",
              "│    └─TransformEncoderBlock (3)                             [1, 197, 768]        [1, 197, 768]        True\n",
              "│    │    └─MultiHeadSelfAttentionBlock (msa)                [1, 197, 768]        [1, 197, 768]        True\n",
              "│    │    └─MLPBlock (mlp)                                   [1, 197, 768]        [1, 197, 768]        True\n",
              "│    └─TransformEncoderBlock (4)                             [1, 197, 768]        [1, 197, 768]        True\n",
              "│    │    └─MultiHeadSelfAttentionBlock (msa)                [1, 197, 768]        [1, 197, 768]        True\n",
              "│    │    └─MLPBlock (mlp)                                   [1, 197, 768]        [1, 197, 768]        True\n",
              "│    └─TransformEncoderBlock (5)                             [1, 197, 768]        [1, 197, 768]        True\n",
              "│    │    └─MultiHeadSelfAttentionBlock (msa)                [1, 197, 768]        [1, 197, 768]        True\n",
              "│    │    └─MLPBlock (mlp)                                   [1, 197, 768]        [1, 197, 768]        True\n",
              "│    └─TransformEncoderBlock (6)                             [1, 197, 768]        [1, 197, 768]        True\n",
              "│    │    └─MultiHeadSelfAttentionBlock (msa)                [1, 197, 768]        [1, 197, 768]        True\n",
              "│    │    └─MLPBlock (mlp)                                   [1, 197, 768]        [1, 197, 768]        True\n",
              "│    └─TransformEncoderBlock (7)                             [1, 197, 768]        [1, 197, 768]        True\n",
              "│    │    └─MultiHeadSelfAttentionBlock (msa)                [1, 197, 768]        [1, 197, 768]        True\n",
              "│    │    └─MLPBlock (mlp)                                   [1, 197, 768]        [1, 197, 768]        True\n",
              "│    └─TransformEncoderBlock (8)                             [1, 197, 768]        [1, 197, 768]        True\n",
              "│    │    └─MultiHeadSelfAttentionBlock (msa)                [1, 197, 768]        [1, 197, 768]        True\n",
              "│    │    └─MLPBlock (mlp)                                   [1, 197, 768]        [1, 197, 768]        True\n",
              "│    └─TransformEncoderBlock (9)                             [1, 197, 768]        [1, 197, 768]        True\n",
              "│    │    └─MultiHeadSelfAttentionBlock (msa)                [1, 197, 768]        [1, 197, 768]        True\n",
              "│    │    └─MLPBlock (mlp)                                   [1, 197, 768]        [1, 197, 768]        True\n",
              "│    └─TransformEncoderBlock (10)                            [1, 197, 768]        [1, 197, 768]        True\n",
              "│    │    └─MultiHeadSelfAttentionBlock (msa)                [1, 197, 768]        [1, 197, 768]        True\n",
              "│    │    └─MLPBlock (mlp)                                   [1, 197, 768]        [1, 197, 768]        True\n",
              "│    └─TransformEncoderBlock (11)                            [1, 197, 768]        [1, 197, 768]        True\n",
              "│    │    └─MultiHeadSelfAttentionBlock (msa)                [1, 197, 768]        [1, 197, 768]        True\n",
              "│    │    └─MLPBlock (mlp)                                   [1, 197, 768]        [1, 197, 768]        True\n",
              "├─Sequential (classifier)                                    [1, 768]             [1, 3]               True\n",
              "│    └─LayerNorm (0)                                         [1, 768]             [1, 768]             True\n",
              "│    └─Linear (1)                                            [1, 768]             [1, 3]               True\n",
              "========================================================================================================================\n",
              "Total params: 85,800,963\n",
              "Trainable params: 85,800,963\n",
              "Non-trainable params: 0\n",
              "Total mult-adds (M): 172.47\n",
              "========================================================================================================================\n",
              "Input size (MB): 0.60\n",
              "Forward/backward pass size (MB): 102.88\n",
              "Params size (MB): 229.20\n",
              "Estimated Total Size (MB): 332.69\n",
              "========================================================================================================================"
            ]
          },
          "metadata": {},
          "execution_count": 12
        }
      ]
    },
    {
      "cell_type": "markdown",
      "source": [
        "## 3. Train a pretrained ViT feature extractor model (like the one we made in [08. PyTorch Paper Replicating section 10](https://www.learnpytorch.io/08_pytorch_paper_replicating/#10-bring-in-pretrained-vit-from-torchvisionmodels-on-same-dataset)) on 20% of the pizza, steak and sushi data like the dataset we used in [07. PyTorch Experiment Tracking section 7.3](https://www.learnpytorch.io/07_pytorch_experiment_tracking/#73-download-different-datasets) \n",
        "* See how it performs compared to the EffNetB2 model we compared it to in [08. PyTorch Paper Replicating section 10.6](https://www.learnpytorch.io/08_pytorch_paper_replicating/#106-save-feature-extractor-vit-model-and-check-file-size)."
      ],
      "metadata": {
        "id": "aTKbje-e9118"
      }
    },
    {
      "cell_type": "code",
      "source": [
        "# download 20 percent pizza steak sushi dataset\n",
        "data_20_percent_path = download_data(source=\"https://github.com/mrdbourke/pytorch-deep-learning/raw/main/data/pizza_steak_sushi_20_percent.zip\",\n",
        "                                     destination=\"pizza_steak_sushi_20_percent\")\n",
        "\n",
        "train_dir = data_20_percent_path / 'train'\n",
        "test_dir = data_20_percent_path / 'test'"
      ],
      "metadata": {
        "id": "R7iKYRAUVkA7",
        "colab": {
          "base_uri": "https://localhost:8080/"
        },
        "outputId": "f054cc79-6eec-4cde-b4af-2e2186e51136"
      },
      "execution_count": 13,
      "outputs": [
        {
          "output_type": "stream",
          "name": "stdout",
          "text": [
            "[INFO] data/pizza_steak_sushi_20_percent directory exists, skipping download.\n"
          ]
        }
      ]
    },
    {
      "cell_type": "markdown",
      "source": [
        "#### Pretrained Vit-16 Model"
      ],
      "metadata": {
        "id": "HxAydUZiULeh"
      }
    },
    {
      "cell_type": "code",
      "source": [
        "from torchvision import models\n",
        "\n",
        "# create pretrained ViT model\n",
        "vit_weights = models.ViT_B_16_Weights.DEFAULT # store best available weights for ViT-16\n",
        "# create a ViT model initialized with the best available pretrained weights\n",
        "pretrained_vit = models.vit_b_16(weights=vit_weights).to(device)"
      ],
      "metadata": {
        "id": "03KPF7-uTHY1"
      },
      "execution_count": 14,
      "outputs": []
    },
    {
      "cell_type": "code",
      "source": [
        "# display summary of pretrained ViT model\n",
        "summary(pretrained_vit, input_size=(1, 3, 224, 224), col_names=['input_size', 'output_size', 'trainable'], col_width=20)"
      ],
      "metadata": {
        "colab": {
          "base_uri": "https://localhost:8080/"
        },
        "id": "1Yl-L67cdGhw",
        "outputId": "fb82de1f-c2f1-4641-fcb5-355002342c16"
      },
      "execution_count": 15,
      "outputs": [
        {
          "output_type": "execute_result",
          "data": {
            "text/plain": [
              "=========================================================================================================\n",
              "Layer (type:depth-idx)                        Input Shape          Output Shape         Trainable\n",
              "=========================================================================================================\n",
              "VisionTransformer                             [1, 3, 224, 224]     [1, 1000]            True\n",
              "├─Conv2d: 1-1                                 [1, 3, 224, 224]     [1, 768, 14, 14]     True\n",
              "├─Encoder: 1-2                                [1, 197, 768]        [1, 197, 768]        True\n",
              "│    └─Dropout: 2-1                           [1, 197, 768]        [1, 197, 768]        --\n",
              "│    └─Sequential: 2-2                        [1, 197, 768]        [1, 197, 768]        True\n",
              "│    │    └─EncoderBlock: 3-1                 [1, 197, 768]        [1, 197, 768]        True\n",
              "│    │    └─EncoderBlock: 3-2                 [1, 197, 768]        [1, 197, 768]        True\n",
              "│    │    └─EncoderBlock: 3-3                 [1, 197, 768]        [1, 197, 768]        True\n",
              "│    │    └─EncoderBlock: 3-4                 [1, 197, 768]        [1, 197, 768]        True\n",
              "│    │    └─EncoderBlock: 3-5                 [1, 197, 768]        [1, 197, 768]        True\n",
              "│    │    └─EncoderBlock: 3-6                 [1, 197, 768]        [1, 197, 768]        True\n",
              "│    │    └─EncoderBlock: 3-7                 [1, 197, 768]        [1, 197, 768]        True\n",
              "│    │    └─EncoderBlock: 3-8                 [1, 197, 768]        [1, 197, 768]        True\n",
              "│    │    └─EncoderBlock: 3-9                 [1, 197, 768]        [1, 197, 768]        True\n",
              "│    │    └─EncoderBlock: 3-10                [1, 197, 768]        [1, 197, 768]        True\n",
              "│    │    └─EncoderBlock: 3-11                [1, 197, 768]        [1, 197, 768]        True\n",
              "│    │    └─EncoderBlock: 3-12                [1, 197, 768]        [1, 197, 768]        True\n",
              "│    └─LayerNorm: 2-3                         [1, 197, 768]        [1, 197, 768]        True\n",
              "├─Sequential: 1-3                             [1, 768]             [1, 1000]            True\n",
              "│    └─Linear: 2-4                            [1, 768]             [1, 1000]            True\n",
              "=========================================================================================================\n",
              "Total params: 86,567,656\n",
              "Trainable params: 86,567,656\n",
              "Non-trainable params: 0\n",
              "Total mult-adds (M): 173.23\n",
              "=========================================================================================================\n",
              "Input size (MB): 0.60\n",
              "Forward/backward pass size (MB): 104.09\n",
              "Params size (MB): 232.27\n",
              "Estimated Total Size (MB): 336.96\n",
              "========================================================================================================="
            ]
          },
          "metadata": {},
          "execution_count": 15
        }
      ]
    },
    {
      "cell_type": "code",
      "source": [
        "# freeze training parameters\n",
        "for param in pretrained_vit.parameters():\n",
        "  param.requires_grad = False\n",
        "\n",
        "# modify the number of output classes\n",
        "set_seeds()\n",
        "pretrained_vit.heads = nn.Linear(in_features=768, out_features=len(class_names)).to(device)"
      ],
      "metadata": {
        "id": "50c2dNr8cKAW"
      },
      "execution_count": 16,
      "outputs": []
    },
    {
      "cell_type": "code",
      "source": [
        "# display summary of pretrained ViT model\n",
        "summary(pretrained_vit, input_size=(1, 3, 224, 224), col_names=['input_size', 'output_size', 'trainable'], col_width=20) # trainable parameters should now be frozen"
      ],
      "metadata": {
        "colab": {
          "base_uri": "https://localhost:8080/"
        },
        "id": "BSNxcYgPdAkE",
        "outputId": "b1da7c12-267c-49f0-c970-4b359d4ede0a"
      },
      "execution_count": 17,
      "outputs": [
        {
          "output_type": "execute_result",
          "data": {
            "text/plain": [
              "=========================================================================================================\n",
              "Layer (type:depth-idx)                        Input Shape          Output Shape         Trainable\n",
              "=========================================================================================================\n",
              "VisionTransformer                             [1, 3, 224, 224]     [1, 3]               Partial\n",
              "├─Conv2d: 1-1                                 [1, 3, 224, 224]     [1, 768, 14, 14]     False\n",
              "├─Encoder: 1-2                                [1, 197, 768]        [1, 197, 768]        False\n",
              "│    └─Dropout: 2-1                           [1, 197, 768]        [1, 197, 768]        --\n",
              "│    └─Sequential: 2-2                        [1, 197, 768]        [1, 197, 768]        False\n",
              "│    │    └─EncoderBlock: 3-1                 [1, 197, 768]        [1, 197, 768]        False\n",
              "│    │    └─EncoderBlock: 3-2                 [1, 197, 768]        [1, 197, 768]        False\n",
              "│    │    └─EncoderBlock: 3-3                 [1, 197, 768]        [1, 197, 768]        False\n",
              "│    │    └─EncoderBlock: 3-4                 [1, 197, 768]        [1, 197, 768]        False\n",
              "│    │    └─EncoderBlock: 3-5                 [1, 197, 768]        [1, 197, 768]        False\n",
              "│    │    └─EncoderBlock: 3-6                 [1, 197, 768]        [1, 197, 768]        False\n",
              "│    │    └─EncoderBlock: 3-7                 [1, 197, 768]        [1, 197, 768]        False\n",
              "│    │    └─EncoderBlock: 3-8                 [1, 197, 768]        [1, 197, 768]        False\n",
              "│    │    └─EncoderBlock: 3-9                 [1, 197, 768]        [1, 197, 768]        False\n",
              "│    │    └─EncoderBlock: 3-10                [1, 197, 768]        [1, 197, 768]        False\n",
              "│    │    └─EncoderBlock: 3-11                [1, 197, 768]        [1, 197, 768]        False\n",
              "│    │    └─EncoderBlock: 3-12                [1, 197, 768]        [1, 197, 768]        False\n",
              "│    └─LayerNorm: 2-3                         [1, 197, 768]        [1, 197, 768]        False\n",
              "├─Linear: 1-3                                 [1, 768]             [1, 3]               True\n",
              "=========================================================================================================\n",
              "Total params: 85,800,963\n",
              "Trainable params: 2,307\n",
              "Non-trainable params: 85,798,656\n",
              "Total mult-adds (M): 172.47\n",
              "=========================================================================================================\n",
              "Input size (MB): 0.60\n",
              "Forward/backward pass size (MB): 104.09\n",
              "Params size (MB): 229.20\n",
              "Estimated Total Size (MB): 333.89\n",
              "========================================================================================================="
            ]
          },
          "metadata": {},
          "execution_count": 17
        }
      ]
    },
    {
      "cell_type": "code",
      "source": [
        "# store the original transforms used by the pretrained ViT model\n",
        "vit_transforms = vit_weights.transforms() \n",
        "print(vit_transforms)"
      ],
      "metadata": {
        "colab": {
          "base_uri": "https://localhost:8080/"
        },
        "id": "_s_mmqz8UCYg",
        "outputId": "eea15b4b-30b7-44da-cb50-ce502cbea74e"
      },
      "execution_count": 18,
      "outputs": [
        {
          "output_type": "stream",
          "name": "stdout",
          "text": [
            "ImageClassification(\n",
            "    crop_size=[224]\n",
            "    resize_size=[256]\n",
            "    mean=[0.485, 0.456, 0.406]\n",
            "    std=[0.229, 0.224, 0.225]\n",
            "    interpolation=InterpolationMode.BILINEAR\n",
            ")\n"
          ]
        }
      ]
    },
    {
      "cell_type": "code",
      "source": [
        "# create dataloaders using pretrained ViT transforms\n",
        "train_dataloader, test_dataloader, class_names = data_setup.create_dataloaders(train_dir=train_dir,\n",
        "                                                                               test_dir=test_dir,\n",
        "                                                                               transform=vit_transforms,\n",
        "                                                                               batch_size=32)"
      ],
      "metadata": {
        "id": "W-3HhKsBbjpO"
      },
      "execution_count": 19,
      "outputs": []
    },
    {
      "cell_type": "code",
      "source": [
        "# train and evaluate pretrained ViT\n",
        "optimizer = torch.optim.Adam(params=pretrained_vit.parameters(), lr=0.003)\n",
        "loss_fn = nn.CrossEntropyLoss()\n",
        "\n",
        "set_seeds()\n",
        "pretrained_vit_default_results = engine.train(model=pretrained_vit,\n",
        "                                              train_dataloader=train_dataloader,\n",
        "                                              test_dataloader=test_dataloader,\n",
        "                                              optimizer=optimizer,\n",
        "                                              loss_fn=loss_fn,\n",
        "                                              epochs=10,\n",
        "                                              device=device)"
      ],
      "metadata": {
        "colab": {
          "base_uri": "https://localhost:8080/",
          "height": 223,
          "referenced_widgets": [
            "de8c08290321478ea6308964e21feb14",
            "628d19e8ad36423a9f7261bbed24edb1",
            "53a81911b5614f8eb00f9d6796329b6b",
            "a08f2efd59b440a7acc96b76c037eaf2",
            "f5968bac5b8c416e8a8148d026f11c56",
            "7ad9bdf8735445a99d6ae27509b831df",
            "f3ea6393a0d345f2b203233adb512a07",
            "9487307bdc24439c9052f4106c09a22a",
            "48400e4a891b454b9b6aace5ab5a0b03",
            "e5f3d648b0194b9388450e82eab9b80f",
            "e20c5aec3bfa41cd998602caf0cdf290"
          ]
        },
        "id": "cq9_ro5ub_Bf",
        "outputId": "0197d6d9-6546-40cb-b110-e13126e2964f"
      },
      "execution_count": 20,
      "outputs": [
        {
          "output_type": "display_data",
          "data": {
            "text/plain": [
              "  0%|          | 0/10 [00:00<?, ?it/s]"
            ],
            "application/vnd.jupyter.widget-view+json": {
              "version_major": 2,
              "version_minor": 0,
              "model_id": "de8c08290321478ea6308964e21feb14"
            }
          },
          "metadata": {}
        },
        {
          "output_type": "stream",
          "name": "stdout",
          "text": [
            "Epoch: 1 | train_loss: 0.5344 | train_acc: 0.8375 | test_loss: 0.0863 | test_acc: 0.9812\n",
            "Epoch: 2 | train_loss: 0.1350 | train_acc: 0.9646 | test_loss: 0.0834 | test_acc: 0.9631\n",
            "Epoch: 3 | train_loss: 0.0836 | train_acc: 0.9792 | test_loss: 0.0622 | test_acc: 0.9722\n",
            "Epoch: 4 | train_loss: 0.0505 | train_acc: 0.9833 | test_loss: 0.0567 | test_acc: 0.9722\n",
            "Epoch: 5 | train_loss: 0.0390 | train_acc: 0.9896 | test_loss: 0.0555 | test_acc: 0.9722\n",
            "Epoch: 6 | train_loss: 0.0407 | train_acc: 1.0000 | test_loss: 0.0538 | test_acc: 0.9659\n",
            "Epoch: 7 | train_loss: 0.0299 | train_acc: 0.9979 | test_loss: 0.0589 | test_acc: 0.9784\n",
            "Epoch: 8 | train_loss: 0.0220 | train_acc: 1.0000 | test_loss: 0.0583 | test_acc: 0.9659\n",
            "Epoch: 9 | train_loss: 0.0299 | train_acc: 1.0000 | test_loss: 0.0539 | test_acc: 0.9784\n",
            "Epoch: 10 | train_loss: 0.0162 | train_acc: 1.0000 | test_loss: 0.0517 | test_acc: 0.9875\n"
          ]
        }
      ]
    },
    {
      "cell_type": "markdown",
      "source": [
        "Pretrained EfficientNet B2"
      ],
      "metadata": {
        "id": "7y5kEJbQUO1e"
      }
    },
    {
      "cell_type": "code",
      "source": [
        "from torchvision import models\n",
        "\n",
        "# store the best available weights of the pretrained EffNetB2 model\n",
        "effnetb2_weights = models.EfficientNet_B2_Weights.DEFAULT\n",
        "# create effnet model using pretrained weights\n",
        "pretrained_effnetb2 = models.efficientnet_b2(weights=effnetb2_weights).to(device)"
      ],
      "metadata": {
        "id": "pNVnQgenePwI"
      },
      "execution_count": 21,
      "outputs": []
    },
    {
      "cell_type": "code",
      "source": [
        "# display summary of pretrained efficient net b2\n",
        "summary(pretrained_effnetb2, input_size=(1, 3, 288, 288), col_names=['input_size', 'output_size', 'trainable'], col_width=20)"
      ],
      "metadata": {
        "colab": {
          "base_uri": "https://localhost:8080/"
        },
        "id": "-uLaoTgxewQf",
        "outputId": "a58c4088-f671-48dd-d993-4061f8e22786"
      },
      "execution_count": 22,
      "outputs": [
        {
          "output_type": "execute_result",
          "data": {
            "text/plain": [
              "===================================================================================================================\n",
              "Layer (type:depth-idx)                                  Input Shape          Output Shape         Trainable\n",
              "===================================================================================================================\n",
              "EfficientNet                                            [1, 3, 288, 288]     [1, 1000]            True\n",
              "├─Sequential: 1-1                                       [1, 3, 288, 288]     [1, 1408, 9, 9]      True\n",
              "│    └─Conv2dNormActivation: 2-1                        [1, 3, 288, 288]     [1, 32, 144, 144]    True\n",
              "│    │    └─Conv2d: 3-1                                 [1, 3, 288, 288]     [1, 32, 144, 144]    True\n",
              "│    │    └─BatchNorm2d: 3-2                            [1, 32, 144, 144]    [1, 32, 144, 144]    True\n",
              "│    │    └─SiLU: 3-3                                   [1, 32, 144, 144]    [1, 32, 144, 144]    --\n",
              "│    └─Sequential: 2-2                                  [1, 32, 144, 144]    [1, 16, 144, 144]    True\n",
              "│    │    └─MBConv: 3-4                                 [1, 32, 144, 144]    [1, 16, 144, 144]    True\n",
              "│    │    └─MBConv: 3-5                                 [1, 16, 144, 144]    [1, 16, 144, 144]    True\n",
              "│    └─Sequential: 2-3                                  [1, 16, 144, 144]    [1, 24, 72, 72]      True\n",
              "│    │    └─MBConv: 3-6                                 [1, 16, 144, 144]    [1, 24, 72, 72]      True\n",
              "│    │    └─MBConv: 3-7                                 [1, 24, 72, 72]      [1, 24, 72, 72]      True\n",
              "│    │    └─MBConv: 3-8                                 [1, 24, 72, 72]      [1, 24, 72, 72]      True\n",
              "│    └─Sequential: 2-4                                  [1, 24, 72, 72]      [1, 48, 36, 36]      True\n",
              "│    │    └─MBConv: 3-9                                 [1, 24, 72, 72]      [1, 48, 36, 36]      True\n",
              "│    │    └─MBConv: 3-10                                [1, 48, 36, 36]      [1, 48, 36, 36]      True\n",
              "│    │    └─MBConv: 3-11                                [1, 48, 36, 36]      [1, 48, 36, 36]      True\n",
              "│    └─Sequential: 2-5                                  [1, 48, 36, 36]      [1, 88, 18, 18]      True\n",
              "│    │    └─MBConv: 3-12                                [1, 48, 36, 36]      [1, 88, 18, 18]      True\n",
              "│    │    └─MBConv: 3-13                                [1, 88, 18, 18]      [1, 88, 18, 18]      True\n",
              "│    │    └─MBConv: 3-14                                [1, 88, 18, 18]      [1, 88, 18, 18]      True\n",
              "│    │    └─MBConv: 3-15                                [1, 88, 18, 18]      [1, 88, 18, 18]      True\n",
              "│    └─Sequential: 2-6                                  [1, 88, 18, 18]      [1, 120, 18, 18]     True\n",
              "│    │    └─MBConv: 3-16                                [1, 88, 18, 18]      [1, 120, 18, 18]     True\n",
              "│    │    └─MBConv: 3-17                                [1, 120, 18, 18]     [1, 120, 18, 18]     True\n",
              "│    │    └─MBConv: 3-18                                [1, 120, 18, 18]     [1, 120, 18, 18]     True\n",
              "│    │    └─MBConv: 3-19                                [1, 120, 18, 18]     [1, 120, 18, 18]     True\n",
              "│    └─Sequential: 2-7                                  [1, 120, 18, 18]     [1, 208, 9, 9]       True\n",
              "│    │    └─MBConv: 3-20                                [1, 120, 18, 18]     [1, 208, 9, 9]       True\n",
              "│    │    └─MBConv: 3-21                                [1, 208, 9, 9]       [1, 208, 9, 9]       True\n",
              "│    │    └─MBConv: 3-22                                [1, 208, 9, 9]       [1, 208, 9, 9]       True\n",
              "│    │    └─MBConv: 3-23                                [1, 208, 9, 9]       [1, 208, 9, 9]       True\n",
              "│    │    └─MBConv: 3-24                                [1, 208, 9, 9]       [1, 208, 9, 9]       True\n",
              "│    └─Sequential: 2-8                                  [1, 208, 9, 9]       [1, 352, 9, 9]       True\n",
              "│    │    └─MBConv: 3-25                                [1, 208, 9, 9]       [1, 352, 9, 9]       True\n",
              "│    │    └─MBConv: 3-26                                [1, 352, 9, 9]       [1, 352, 9, 9]       True\n",
              "│    └─Conv2dNormActivation: 2-9                        [1, 352, 9, 9]       [1, 1408, 9, 9]      True\n",
              "│    │    └─Conv2d: 3-27                                [1, 352, 9, 9]       [1, 1408, 9, 9]      True\n",
              "│    │    └─BatchNorm2d: 3-28                           [1, 1408, 9, 9]      [1, 1408, 9, 9]      True\n",
              "│    │    └─SiLU: 3-29                                  [1, 1408, 9, 9]      [1, 1408, 9, 9]      --\n",
              "├─AdaptiveAvgPool2d: 1-2                                [1, 1408, 9, 9]      [1, 1408, 1, 1]      --\n",
              "├─Sequential: 1-3                                       [1, 1408]            [1, 1000]            True\n",
              "│    └─Dropout: 2-10                                    [1, 1408]            [1, 1408]            --\n",
              "│    └─Linear: 2-11                                     [1, 1408]            [1, 1000]            True\n",
              "===================================================================================================================\n",
              "Total params: 9,109,994\n",
              "Trainable params: 9,109,994\n",
              "Non-trainable params: 0\n",
              "Total mult-adds (G): 1.09\n",
              "===================================================================================================================\n",
              "Input size (MB): 1.00\n",
              "Forward/backward pass size (MB): 259.12\n",
              "Params size (MB): 36.44\n",
              "Estimated Total Size (MB): 296.56\n",
              "==================================================================================================================="
            ]
          },
          "metadata": {},
          "execution_count": 22
        }
      ]
    },
    {
      "cell_type": "code",
      "source": [
        "# freeze training parameters\n",
        "for param in pretrained_effnetb2.features.parameters():\n",
        "  param.requires_grad = False\n",
        "\n",
        "# modify the classifier layer and number of output classes\n",
        "set_seeds()\n",
        "pretrained_effnetb2.classifier = nn.Sequential(\n",
        "    nn.Dropout(p=0.3),\n",
        "    nn.Linear(in_features=1408, out_features=len(class_names))\n",
        ").to(device)"
      ],
      "metadata": {
        "id": "HmYCyGKgfdMB"
      },
      "execution_count": 23,
      "outputs": []
    },
    {
      "cell_type": "code",
      "source": [
        "# display summary of pretrained efficient net b2\n",
        "summary(pretrained_effnetb2, input_size=(1, 3, 288, 288), col_names=['input_size', 'output_size', 'trainable'], col_width=20) # trainable parameters are now frozen"
      ],
      "metadata": {
        "colab": {
          "base_uri": "https://localhost:8080/"
        },
        "id": "4oNPglXRf9cW",
        "outputId": "03a6dccc-daeb-40e0-d211-fcfcf842e477"
      },
      "execution_count": 24,
      "outputs": [
        {
          "output_type": "execute_result",
          "data": {
            "text/plain": [
              "===================================================================================================================\n",
              "Layer (type:depth-idx)                                  Input Shape          Output Shape         Trainable\n",
              "===================================================================================================================\n",
              "EfficientNet                                            [1, 3, 288, 288]     [1, 3]               Partial\n",
              "├─Sequential: 1-1                                       [1, 3, 288, 288]     [1, 1408, 9, 9]      False\n",
              "│    └─Conv2dNormActivation: 2-1                        [1, 3, 288, 288]     [1, 32, 144, 144]    False\n",
              "│    │    └─Conv2d: 3-1                                 [1, 3, 288, 288]     [1, 32, 144, 144]    False\n",
              "│    │    └─BatchNorm2d: 3-2                            [1, 32, 144, 144]    [1, 32, 144, 144]    False\n",
              "│    │    └─SiLU: 3-3                                   [1, 32, 144, 144]    [1, 32, 144, 144]    --\n",
              "│    └─Sequential: 2-2                                  [1, 32, 144, 144]    [1, 16, 144, 144]    False\n",
              "│    │    └─MBConv: 3-4                                 [1, 32, 144, 144]    [1, 16, 144, 144]    False\n",
              "│    │    └─MBConv: 3-5                                 [1, 16, 144, 144]    [1, 16, 144, 144]    False\n",
              "│    └─Sequential: 2-3                                  [1, 16, 144, 144]    [1, 24, 72, 72]      False\n",
              "│    │    └─MBConv: 3-6                                 [1, 16, 144, 144]    [1, 24, 72, 72]      False\n",
              "│    │    └─MBConv: 3-7                                 [1, 24, 72, 72]      [1, 24, 72, 72]      False\n",
              "│    │    └─MBConv: 3-8                                 [1, 24, 72, 72]      [1, 24, 72, 72]      False\n",
              "│    └─Sequential: 2-4                                  [1, 24, 72, 72]      [1, 48, 36, 36]      False\n",
              "│    │    └─MBConv: 3-9                                 [1, 24, 72, 72]      [1, 48, 36, 36]      False\n",
              "│    │    └─MBConv: 3-10                                [1, 48, 36, 36]      [1, 48, 36, 36]      False\n",
              "│    │    └─MBConv: 3-11                                [1, 48, 36, 36]      [1, 48, 36, 36]      False\n",
              "│    └─Sequential: 2-5                                  [1, 48, 36, 36]      [1, 88, 18, 18]      False\n",
              "│    │    └─MBConv: 3-12                                [1, 48, 36, 36]      [1, 88, 18, 18]      False\n",
              "│    │    └─MBConv: 3-13                                [1, 88, 18, 18]      [1, 88, 18, 18]      False\n",
              "│    │    └─MBConv: 3-14                                [1, 88, 18, 18]      [1, 88, 18, 18]      False\n",
              "│    │    └─MBConv: 3-15                                [1, 88, 18, 18]      [1, 88, 18, 18]      False\n",
              "│    └─Sequential: 2-6                                  [1, 88, 18, 18]      [1, 120, 18, 18]     False\n",
              "│    │    └─MBConv: 3-16                                [1, 88, 18, 18]      [1, 120, 18, 18]     False\n",
              "│    │    └─MBConv: 3-17                                [1, 120, 18, 18]     [1, 120, 18, 18]     False\n",
              "│    │    └─MBConv: 3-18                                [1, 120, 18, 18]     [1, 120, 18, 18]     False\n",
              "│    │    └─MBConv: 3-19                                [1, 120, 18, 18]     [1, 120, 18, 18]     False\n",
              "│    └─Sequential: 2-7                                  [1, 120, 18, 18]     [1, 208, 9, 9]       False\n",
              "│    │    └─MBConv: 3-20                                [1, 120, 18, 18]     [1, 208, 9, 9]       False\n",
              "│    │    └─MBConv: 3-21                                [1, 208, 9, 9]       [1, 208, 9, 9]       False\n",
              "│    │    └─MBConv: 3-22                                [1, 208, 9, 9]       [1, 208, 9, 9]       False\n",
              "│    │    └─MBConv: 3-23                                [1, 208, 9, 9]       [1, 208, 9, 9]       False\n",
              "│    │    └─MBConv: 3-24                                [1, 208, 9, 9]       [1, 208, 9, 9]       False\n",
              "│    └─Sequential: 2-8                                  [1, 208, 9, 9]       [1, 352, 9, 9]       False\n",
              "│    │    └─MBConv: 3-25                                [1, 208, 9, 9]       [1, 352, 9, 9]       False\n",
              "│    │    └─MBConv: 3-26                                [1, 352, 9, 9]       [1, 352, 9, 9]       False\n",
              "│    └─Conv2dNormActivation: 2-9                        [1, 352, 9, 9]       [1, 1408, 9, 9]      False\n",
              "│    │    └─Conv2d: 3-27                                [1, 352, 9, 9]       [1, 1408, 9, 9]      False\n",
              "│    │    └─BatchNorm2d: 3-28                           [1, 1408, 9, 9]      [1, 1408, 9, 9]      False\n",
              "│    │    └─SiLU: 3-29                                  [1, 1408, 9, 9]      [1, 1408, 9, 9]      --\n",
              "├─AdaptiveAvgPool2d: 1-2                                [1, 1408, 9, 9]      [1, 1408, 1, 1]      --\n",
              "├─Sequential: 1-3                                       [1, 1408]            [1, 3]               True\n",
              "│    └─Dropout: 2-10                                    [1, 1408]            [1, 1408]            --\n",
              "│    └─Linear: 2-11                                     [1, 1408]            [1, 3]               True\n",
              "===================================================================================================================\n",
              "Total params: 7,705,221\n",
              "Trainable params: 4,227\n",
              "Non-trainable params: 7,700,994\n",
              "Total mult-adds (G): 1.09\n",
              "===================================================================================================================\n",
              "Input size (MB): 1.00\n",
              "Forward/backward pass size (MB): 259.12\n",
              "Params size (MB): 30.82\n",
              "Estimated Total Size (MB): 290.93\n",
              "==================================================================================================================="
            ]
          },
          "metadata": {},
          "execution_count": 24
        }
      ]
    },
    {
      "cell_type": "code",
      "source": [
        "# store the original transforms used by the pretrained efficient net b2\n",
        "effnetb2_transforms = effnetb2_weights.transforms()\n",
        "print(effnetb2_transforms)"
      ],
      "metadata": {
        "colab": {
          "base_uri": "https://localhost:8080/"
        },
        "id": "qB1PqL5jfQD8",
        "outputId": "e73ffcd6-d72b-429d-cb3f-48403b3f550c"
      },
      "execution_count": 25,
      "outputs": [
        {
          "output_type": "stream",
          "name": "stdout",
          "text": [
            "ImageClassification(\n",
            "    crop_size=[288]\n",
            "    resize_size=[288]\n",
            "    mean=[0.485, 0.456, 0.406]\n",
            "    std=[0.229, 0.224, 0.225]\n",
            "    interpolation=InterpolationMode.BICUBIC\n",
            ")\n"
          ]
        }
      ]
    },
    {
      "cell_type": "code",
      "source": [
        "# create dataloaders using automatic transform used by pretrained efficient net b2\n",
        "train_dataloader, test_dataloader, class_names = data_setup.create_dataloaders(train_dir=train_dir,\n",
        "                                                                               test_dir=test_dir,\n",
        "                                                                               transform=effnetb2_transforms,\n",
        "                                                                               batch_size=32)"
      ],
      "metadata": {
        "id": "zE2P7-I_gHkg"
      },
      "execution_count": 26,
      "outputs": []
    },
    {
      "cell_type": "code",
      "source": [
        "# train and evaluae pretrained efficient net b2\n",
        "optimizer = torch.optim.Adam(params=pretrained_effnetb2.parameters(), lr=0.001)\n",
        "loss_fn = nn.CrossEntropyLoss()\n",
        "\n",
        "set_seeds()\n",
        "pretrained_effnetb2_default_results = engine.train(model=pretrained_effnetb2,\n",
        "                                                   train_dataloader=train_dataloader,\n",
        "                                                   test_dataloader=test_dataloader,\n",
        "                                                   optimizer=optimizer,\n",
        "                                                   loss_fn=loss_fn,\n",
        "                                                   epochs=10,\n",
        "                                                   device=device)"
      ],
      "metadata": {
        "colab": {
          "base_uri": "https://localhost:8080/",
          "height": 223,
          "referenced_widgets": [
            "6dcf1ca96a9e42c69db33b14bc617dee",
            "0567094c0d814819988921987d8044fa",
            "b61e5d4b2e064b28b2279529275216c0",
            "f7f1af7ae34d41cd85eea2ca8910d90c",
            "3d5f3062b37441ea8ccbaaed50bd942c",
            "5aef3862932a4e7eb849b5f68edb7eaa",
            "4b8853e2c3f64381a42bd6ae72436f0f",
            "9aef491062214c66bd798c25f6d3ff01",
            "f94d8ff476364b5db4ded89be1154c74",
            "c38b353729e44b4dbf666bba967bc4fb",
            "11d4cec47cab472dae5ac62c9d4930be"
          ]
        },
        "id": "2s3kr6SohJDr",
        "outputId": "75fdbfc9-6383-4bca-d6e7-b9e51a394881"
      },
      "execution_count": 27,
      "outputs": [
        {
          "output_type": "display_data",
          "data": {
            "text/plain": [
              "  0%|          | 0/10 [00:00<?, ?it/s]"
            ],
            "application/vnd.jupyter.widget-view+json": {
              "version_major": 2,
              "version_minor": 0,
              "model_id": "6dcf1ca96a9e42c69db33b14bc617dee"
            }
          },
          "metadata": {}
        },
        {
          "output_type": "stream",
          "name": "stdout",
          "text": [
            "Epoch: 1 | train_loss: 0.9729 | train_acc: 0.5583 | test_loss: 0.7356 | test_acc: 0.9409\n",
            "Epoch: 2 | train_loss: 0.7212 | train_acc: 0.8500 | test_loss: 0.5849 | test_acc: 0.9381\n",
            "Epoch: 3 | train_loss: 0.5807 | train_acc: 0.8583 | test_loss: 0.4883 | test_acc: 0.9500\n",
            "Epoch: 4 | train_loss: 0.4471 | train_acc: 0.9021 | test_loss: 0.4308 | test_acc: 0.9318\n",
            "Epoch: 5 | train_loss: 0.4332 | train_acc: 0.8896 | test_loss: 0.3878 | test_acc: 0.9506\n",
            "Epoch: 6 | train_loss: 0.4155 | train_acc: 0.8896 | test_loss: 0.3488 | test_acc: 0.9688\n",
            "Epoch: 7 | train_loss: 0.4237 | train_acc: 0.8708 | test_loss: 0.3240 | test_acc: 0.9472\n",
            "Epoch: 8 | train_loss: 0.3841 | train_acc: 0.8917 | test_loss: 0.3374 | test_acc: 0.9506\n",
            "Epoch: 9 | train_loss: 0.3697 | train_acc: 0.8958 | test_loss: 0.3081 | test_acc: 0.9131\n",
            "Epoch: 10 | train_loss: 0.3535 | train_acc: 0.8604 | test_loss: 0.2797 | test_acc: 0.9625\n"
          ]
        }
      ]
    },
    {
      "cell_type": "markdown",
      "source": [
        "## 4. Try repeating the steps from excercise 3 but this time use the \"`ViT_B_16_Weights.IMAGENET1K_SWAG_E2E_V1`\" pretrained weights from [`torchvision.models.vit_b_16()`](https://pytorch.org/vision/stable/models/generated/torchvision.models.vit_b_16.html#torchvision.models.vit_b_16).\n",
        "* Note: ViT pretrained with SWAG weights has a minimum input image size of (384, 384), though this is accessible in the weights `.transforms()` method."
      ],
      "metadata": {
        "id": "LH-vHr3m9_oH"
      }
    },
    {
      "cell_type": "code",
      "source": [
        "from torchvision import models\n",
        "\n",
        "# store the SWAG weights of the pretrained ViT model\n",
        "vit_weights_swag = models.ViT_B_16_Weights.IMAGENET1K_SWAG_E2E_V1\n",
        "# create pretrained ViT model using SWAG weights\n",
        "pretrained_vit_swag = models.vit_b_16(weights=vit_weights_swag).to(device)"
      ],
      "metadata": {
        "id": "dWxceTz3VmeB"
      },
      "execution_count": 28,
      "outputs": []
    },
    {
      "cell_type": "code",
      "source": [
        "# display summary of pretrained ViT model\n",
        "summary(pretrained_vit_swag, input_size=(1, 3, 384, 384), col_names=['input_size', 'output_size', 'trainable'], col_width=20)"
      ],
      "metadata": {
        "colab": {
          "base_uri": "https://localhost:8080/"
        },
        "id": "0iTmj3PrjKDb",
        "outputId": "7cbc4097-2791-4b7f-f03c-3aa98e81c324"
      },
      "execution_count": 29,
      "outputs": [
        {
          "output_type": "execute_result",
          "data": {
            "text/plain": [
              "=========================================================================================================\n",
              "Layer (type:depth-idx)                        Input Shape          Output Shape         Trainable\n",
              "=========================================================================================================\n",
              "VisionTransformer                             [1, 3, 384, 384]     [1, 1000]            True\n",
              "├─Conv2d: 1-1                                 [1, 3, 384, 384]     [1, 768, 24, 24]     True\n",
              "├─Encoder: 1-2                                [1, 577, 768]        [1, 577, 768]        True\n",
              "│    └─Dropout: 2-1                           [1, 577, 768]        [1, 577, 768]        --\n",
              "│    └─Sequential: 2-2                        [1, 577, 768]        [1, 577, 768]        True\n",
              "│    │    └─EncoderBlock: 3-1                 [1, 577, 768]        [1, 577, 768]        True\n",
              "│    │    └─EncoderBlock: 3-2                 [1, 577, 768]        [1, 577, 768]        True\n",
              "│    │    └─EncoderBlock: 3-3                 [1, 577, 768]        [1, 577, 768]        True\n",
              "│    │    └─EncoderBlock: 3-4                 [1, 577, 768]        [1, 577, 768]        True\n",
              "│    │    └─EncoderBlock: 3-5                 [1, 577, 768]        [1, 577, 768]        True\n",
              "│    │    └─EncoderBlock: 3-6                 [1, 577, 768]        [1, 577, 768]        True\n",
              "│    │    └─EncoderBlock: 3-7                 [1, 577, 768]        [1, 577, 768]        True\n",
              "│    │    └─EncoderBlock: 3-8                 [1, 577, 768]        [1, 577, 768]        True\n",
              "│    │    └─EncoderBlock: 3-9                 [1, 577, 768]        [1, 577, 768]        True\n",
              "│    │    └─EncoderBlock: 3-10                [1, 577, 768]        [1, 577, 768]        True\n",
              "│    │    └─EncoderBlock: 3-11                [1, 577, 768]        [1, 577, 768]        True\n",
              "│    │    └─EncoderBlock: 3-12                [1, 577, 768]        [1, 577, 768]        True\n",
              "│    └─LayerNorm: 2-3                         [1, 577, 768]        [1, 577, 768]        True\n",
              "├─Sequential: 1-3                             [1, 768]             [1, 1000]            True\n",
              "│    └─Linear: 2-4                            [1, 768]             [1, 1000]            True\n",
              "=========================================================================================================\n",
              "Total params: 86,859,496\n",
              "Trainable params: 86,859,496\n",
              "Non-trainable params: 0\n",
              "Total mult-adds (M): 397.66\n",
              "=========================================================================================================\n",
              "Input size (MB): 1.77\n",
              "Forward/backward pass size (MB): 304.88\n",
              "Params size (MB): 232.27\n",
              "Estimated Total Size (MB): 538.92\n",
              "========================================================================================================="
            ]
          },
          "metadata": {},
          "execution_count": 29
        }
      ]
    },
    {
      "cell_type": "code",
      "source": [
        "# freeze training parameters\n",
        "for param in pretrained_vit_swag.parameters():\n",
        "  param.requires_grad = False\n",
        "\n",
        "# modify the classifier output of pretrained Vit model\n",
        "set_seeds()\n",
        "pretrained_vit_swag.heads = nn.Linear(in_features=768, out_features=len(class_names)).to(device)"
      ],
      "metadata": {
        "id": "XKrUO3nRjfxp"
      },
      "execution_count": 30,
      "outputs": []
    },
    {
      "cell_type": "code",
      "source": [
        "# display summary of pretrained ViT\n",
        "summary(pretrained_vit_swag, input_size=(1, 3, 384, 384), col_names=['input_size', 'output_size', 'trainable'], col_width=20) # trainable parameters are now frozen"
      ],
      "metadata": {
        "colab": {
          "base_uri": "https://localhost:8080/"
        },
        "id": "gvh0RIxsj4SI",
        "outputId": "b7a4ed2c-5e65-4960-d912-0d40a69a3451"
      },
      "execution_count": 31,
      "outputs": [
        {
          "output_type": "execute_result",
          "data": {
            "text/plain": [
              "=========================================================================================================\n",
              "Layer (type:depth-idx)                        Input Shape          Output Shape         Trainable\n",
              "=========================================================================================================\n",
              "VisionTransformer                             [1, 3, 384, 384]     [1, 3]               Partial\n",
              "├─Conv2d: 1-1                                 [1, 3, 384, 384]     [1, 768, 24, 24]     False\n",
              "├─Encoder: 1-2                                [1, 577, 768]        [1, 577, 768]        False\n",
              "│    └─Dropout: 2-1                           [1, 577, 768]        [1, 577, 768]        --\n",
              "│    └─Sequential: 2-2                        [1, 577, 768]        [1, 577, 768]        False\n",
              "│    │    └─EncoderBlock: 3-1                 [1, 577, 768]        [1, 577, 768]        False\n",
              "│    │    └─EncoderBlock: 3-2                 [1, 577, 768]        [1, 577, 768]        False\n",
              "│    │    └─EncoderBlock: 3-3                 [1, 577, 768]        [1, 577, 768]        False\n",
              "│    │    └─EncoderBlock: 3-4                 [1, 577, 768]        [1, 577, 768]        False\n",
              "│    │    └─EncoderBlock: 3-5                 [1, 577, 768]        [1, 577, 768]        False\n",
              "│    │    └─EncoderBlock: 3-6                 [1, 577, 768]        [1, 577, 768]        False\n",
              "│    │    └─EncoderBlock: 3-7                 [1, 577, 768]        [1, 577, 768]        False\n",
              "│    │    └─EncoderBlock: 3-8                 [1, 577, 768]        [1, 577, 768]        False\n",
              "│    │    └─EncoderBlock: 3-9                 [1, 577, 768]        [1, 577, 768]        False\n",
              "│    │    └─EncoderBlock: 3-10                [1, 577, 768]        [1, 577, 768]        False\n",
              "│    │    └─EncoderBlock: 3-11                [1, 577, 768]        [1, 577, 768]        False\n",
              "│    │    └─EncoderBlock: 3-12                [1, 577, 768]        [1, 577, 768]        False\n",
              "│    └─LayerNorm: 2-3                         [1, 577, 768]        [1, 577, 768]        False\n",
              "├─Linear: 1-3                                 [1, 768]             [1, 3]               True\n",
              "=========================================================================================================\n",
              "Total params: 86,092,803\n",
              "Trainable params: 2,307\n",
              "Non-trainable params: 86,090,496\n",
              "Total mult-adds (M): 396.89\n",
              "=========================================================================================================\n",
              "Input size (MB): 1.77\n",
              "Forward/backward pass size (MB): 304.87\n",
              "Params size (MB): 229.20\n",
              "Estimated Total Size (MB): 535.84\n",
              "========================================================================================================="
            ]
          },
          "metadata": {},
          "execution_count": 31
        }
      ]
    },
    {
      "cell_type": "code",
      "source": [
        "# store original transformed used by pretrained ViT model\n",
        "vit_transforms_swag = vit_weights_swag.transforms()\n",
        "print(vit_transforms_swag)"
      ],
      "metadata": {
        "colab": {
          "base_uri": "https://localhost:8080/"
        },
        "id": "DVF4KUlGkd32",
        "outputId": "2fb1b1d1-7b4f-42d9-cf6c-81341c380b7c"
      },
      "execution_count": 32,
      "outputs": [
        {
          "output_type": "stream",
          "name": "stdout",
          "text": [
            "ImageClassification(\n",
            "    crop_size=[384]\n",
            "    resize_size=[384]\n",
            "    mean=[0.485, 0.456, 0.406]\n",
            "    std=[0.229, 0.224, 0.225]\n",
            "    interpolation=InterpolationMode.BICUBIC\n",
            ")\n"
          ]
        }
      ]
    },
    {
      "cell_type": "code",
      "source": [
        "# create dataloaders using automatic transform of pretrained ViT model\n",
        "train_dataloader, test_dataloader, class_names = data_setup.create_dataloaders(train_dir=train_dir,\n",
        "                                                                               test_dir=test_dir,\n",
        "                                                                               transform=vit_transforms_swag,\n",
        "                                                                               batch_size=32)"
      ],
      "metadata": {
        "id": "7Y0ieqNmkqzj"
      },
      "execution_count": 33,
      "outputs": []
    },
    {
      "cell_type": "code",
      "source": [
        "# train and evaluate pretrained ViT model\n",
        "optimizer = torch.optim.Adam(params=pretrained_vit_swag.parameters(), lr=0.003)\n",
        "loss_fn = nn.CrossEntropyLoss()\n",
        "\n",
        "set_seeds()\n",
        "pretrained_vit_swag_results = engine.train(model=pretrained_vit_swag,\n",
        "                                           train_dataloader=train_dataloader,\n",
        "                                           test_dataloader = test_dataloader,\n",
        "                                           optimizer=optimizer,\n",
        "                                           loss_fn=loss_fn,\n",
        "                                           epochs=10,\n",
        "                                           device=device)"
      ],
      "metadata": {
        "colab": {
          "base_uri": "https://localhost:8080/",
          "height": 223,
          "referenced_widgets": [
            "7adfea4c0e674bcb842a33598769d404",
            "f44db470a37b44bc98b43f85357e7e1a",
            "6d8fb490bfb74e87b5641a9a39d25a27",
            "150b3274d7a940379bb391ed8d4ff35f",
            "d93d309256204c30a6a38a2f3fdb774d",
            "08fbea0ded1d4d9e901d3877994d805b",
            "65f737fa7a6342f3b2d47f1f1690b271",
            "f1436ba05f9b4e7bbf41710214f56304",
            "b9a2b50b97e1456ea5fcdc75a27d24f3",
            "e3df0d883e4a45078050ea56e044a278",
            "8385812d27c346b38e01463b4a285d6a"
          ]
        },
        "id": "4eX99_eDlBF9",
        "outputId": "c9518807-df77-4d06-c83d-3209fd801c67"
      },
      "execution_count": 34,
      "outputs": [
        {
          "output_type": "display_data",
          "data": {
            "text/plain": [
              "  0%|          | 0/10 [00:00<?, ?it/s]"
            ],
            "application/vnd.jupyter.widget-view+json": {
              "version_major": 2,
              "version_minor": 0,
              "model_id": "7adfea4c0e674bcb842a33598769d404"
            }
          },
          "metadata": {}
        },
        {
          "output_type": "stream",
          "name": "stdout",
          "text": [
            "Epoch: 1 | train_loss: 0.4488 | train_acc: 0.9167 | test_loss: 0.0024 | test_acc: 1.0000\n",
            "Epoch: 2 | train_loss: 0.0359 | train_acc: 0.9896 | test_loss: 0.0109 | test_acc: 1.0000\n",
            "Epoch: 3 | train_loss: 0.0141 | train_acc: 0.9958 | test_loss: 0.0013 | test_acc: 1.0000\n",
            "Epoch: 4 | train_loss: 0.0040 | train_acc: 1.0000 | test_loss: 0.0006 | test_acc: 1.0000\n",
            "Epoch: 5 | train_loss: 0.0027 | train_acc: 1.0000 | test_loss: 0.0007 | test_acc: 1.0000\n",
            "Epoch: 6 | train_loss: 0.0016 | train_acc: 1.0000 | test_loss: 0.0007 | test_acc: 1.0000\n",
            "Epoch: 7 | train_loss: 0.0011 | train_acc: 1.0000 | test_loss: 0.0006 | test_acc: 1.0000\n",
            "Epoch: 8 | train_loss: 0.0017 | train_acc: 1.0000 | test_loss: 0.0006 | test_acc: 1.0000\n",
            "Epoch: 9 | train_loss: 0.0009 | train_acc: 1.0000 | test_loss: 0.0010 | test_acc: 1.0000\n",
            "Epoch: 10 | train_loss: 0.0012 | train_acc: 1.0000 | test_loss: 0.0006 | test_acc: 1.0000\n"
          ]
        }
      ]
    },
    {
      "cell_type": "markdown",
      "source": [
        "### Plot ViT-16 Default Results"
      ],
      "metadata": {
        "id": "EVeBOq7rnESs"
      }
    },
    {
      "cell_type": "code",
      "source": [
        "plot_loss_curves(pretrained_vit_default_results)"
      ],
      "metadata": {
        "colab": {
          "base_uri": "https://localhost:8080/",
          "height": 458
        },
        "id": "r_M3Ra2unJ4E",
        "outputId": "3ee9d89b-6327-460b-9764-7bf5a5dce6ad"
      },
      "execution_count": 35,
      "outputs": [
        {
          "output_type": "display_data",
          "data": {
            "text/plain": [
              "<Figure size 1080x504 with 2 Axes>"
            ],
            "image/png": "[encoded data removed]"
          },
          "metadata": {
            "needs_background": "light"
          }
        }
      ]
    },
    {
      "cell_type": "markdown",
      "source": [
        "### Plot EfficientNet B2 Default Results"
      ],
      "metadata": {
        "id": "3uWlBfwYnOZM"
      }
    },
    {
      "cell_type": "code",
      "source": [
        "plot_loss_curves(pretrained_effnetb2_default_results)"
      ],
      "metadata": {
        "colab": {
          "base_uri": "https://localhost:8080/",
          "height": 458
        },
        "id": "H0TcZQZZnUcO",
        "outputId": "21496c21-4a60-4890-bb5a-c8bc2f74d583"
      },
      "execution_count": 36,
      "outputs": [
        {
          "output_type": "display_data",
          "data": {
            "text/plain": [
              "<Figure size 1080x504 with 2 Axes>"
            ],
            "image/png": "[encoded data removed]"
          },
          "metadata": {
            "needs_background": "light"
          }
        }
      ]
    },
    {
      "cell_type": "markdown",
      "source": [
        "### Plot ViT-16 SWAG Results"
      ],
      "metadata": {
        "id": "76HwdiEGnYpx"
      }
    },
    {
      "cell_type": "code",
      "source": [
        "plot_loss_curves(pretrained_vit_swag_results)"
      ],
      "metadata": {
        "colab": {
          "base_uri": "https://localhost:8080/",
          "height": 458
        },
        "id": "AwfAvcxcnb8D",
        "outputId": "b5fcd64c-45da-49ca-f7a4-eb476c29ce4e"
      },
      "execution_count": 37,
      "outputs": [
        {
          "output_type": "display_data",
          "data": {
            "text/plain": [
              "<Figure size 1080x504 with 2 Axes>"
            ],
            "image/png": "[encoded data removed]"
          },
          "metadata": {
            "needs_background": "light"
          }
        }
      ]
    },
    {
      "cell_type": "markdown",
      "source": [
        "# 5. Our custom ViT model architecture closely mimics that of the ViT paper, however, our training recipe misses a few things. \n",
        "* Research some of the following topics from Table 3 in the ViT paper that we miss and write a sentence about each and how it might help with training:\n",
        "    * **ImageNet-22k pretraining** \n",
        "    * **Learning rate warmup** \n",
        "    * **Learning rate decay** \n",
        "    * **Gradient clipping** "
      ],
      "metadata": {
        "id": "ZLcCgRhS-OhV"
      }
    },
    {
      "cell_type": "markdown",
      "source": [
        "#### **ImageNet-22k pretraining**\n",
        "\n",
        "A much larger dataset for training compared to the standard ImageNet-1K training data. ImageNet-22k is a superset of ImageNet-1k containing millions more images of roughly 22,000 classes instead of ImageNet-1k 1000 classes.\n",
        "\n",
        "More data, means less overfitting of models and better generalization on unseen data."
      ],
      "metadata": {
        "id": "mhz6LrZKniGv"
      }
    },
    {
      "cell_type": "markdown",
      "source": [
        "**Learning Rate Warm-up**\n",
        "\n",
        "The learning rate starts small at the beginning of learning and gradually increases until it reaches the desired base learning rate over a set number of epochs. \n",
        "\n",
        "Weight updates at the beginning of learning are smaller than those updates towards the end of training to avoid overfitting on early training examples. In normal training, these early raining examples would have primacy effects on potential solutions and heavily influence the direction of learning compared with later training examples. "
      ],
      "metadata": {
        "id": "4_GlzAWiwN4v"
      }
    },
    {
      "cell_type": "markdown",
      "source": [
        "**Learning Rate Decay**\n",
        "\n",
        "The base learning rate used in gradient descent slowly decreases over time. This means smaller weight updates are applied during learning as the model converges closer and closer to an improved solution which is more likely to be optimal. "
      ],
      "metadata": {
        "id": "CCtuf3JhvviK"
      }
    },
    {
      "cell_type": "markdown",
      "source": [
        "**Gradient Clipping**\n",
        "\n",
        "Stop updating the value of gradients once they exceeded an upper or lower value. Used to prevent vanishing (values very close to zero) or exploding gradients (values much greater than 1).\n",
        "\n",
        "Prevents very large or tiny updates to the weights which can lead to sub-optimal minimas or none existent learning."
      ],
      "metadata": {
        "id": "WbmxHeIUorPn"
      }
    }
  ]
}